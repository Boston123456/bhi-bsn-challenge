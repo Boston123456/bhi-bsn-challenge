{
 "cells": [
  {
   "cell_type": "markdown",
   "metadata": {},
   "source": [
    "# R demo for the 2018 BHI & BSN Data Challenge\n",
    "\n",
    "This notebook provides a simple introduction to analysing the MIMIC-III database. It was created as a demonstrator for the [2018 BHI & BSN Data Challenge](https://mimic.physionet.org/events/bhibsn-challenge/), which explores the following question:\n",
    "\n",
    "> Are patients admitted to the intensive care unit (ICU) on a weekend more likely to die in the hospital than those admitted on a weekday?\n",
    "\n",
    "We have provided an example slide template for final presentations (`slide-template.pptx`) at: https://github.com/MIT-LCP/bhi-bsn-challenge. There is no obligation to use it!"
   ]
  },
  {
   "cell_type": "markdown",
   "metadata": {},
   "source": [
    "## Background on MIMIC-III\n",
    "\n",
    "MIMIC-III (‘Medical Information Mart for Intensive Care’) is a large, single-center database comprising information relating to patients admitted to critical care units at a large tertiary care hospital. \n",
    "\n",
    "Data includes vital signs, medications, laboratory measurements, observations and notes charted by care providers, fluid balance, procedure codes, diagnostic codes, imaging reports, hospital length of stay, survival data, and more. \n",
    "\n",
    "For details, see: https://mimic.physionet.org/. The data is downloaded as 26 CSV files, which can then be loaded into a database system. Scripts for loading the data into Postgres are provided in the [MIMIC Code Repository](https://mimic.physionet.org/gettingstarted/dbsetup/). A demo dataset is also available: https://mimic.physionet.org/gettingstarted/demo/\n",
    "\n",
    "Points to note:\n",
    "\n",
    "- A patient-level shift has been applied to dates. Day of week is retained. \n",
    "- Patients aged >89 years on first admission have been reassigned an age of ~300 years.\n",
    "- Patients may have multiple hospital admissions. Each hospital admission may comprise multiple ICU stays (e.g. a patient may visit the ICU, leave for surgery, and then return to the ICU for recovery, all within a single hospital admission).\n",
    "\n",
    "If you need help getting set up with access to MIMIC-III, please contact `data-challenge@physionet.org`."
   ]
  },
  {
   "cell_type": "markdown",
   "metadata": {},
   "source": [
    "## Connect to the MIMIC-III database\n",
    "\n",
    "The toughest part is often getting the database running and the software connecting to it.  This is the way I usually do it:\n",
    "\n",
    "1. run `echo 'password' > .pwfile_`\n",
    "   in a command prompt, where `password` is replaced with your user's postgres password\n",
    "2. Run this script in the same directory as this file\n",
    "\n",
    "The resulting chunk may install some R packages on your computer."
   ]
  },
  {
   "cell_type": "code",
   "execution_count": 1,
   "metadata": {},
   "outputs": [
    {
     "name": "stderr",
     "output_type": "stream",
     "text": [
      "\n",
      "Attaching package: ‘dplyr’\n",
      "\n",
      "The following objects are masked from ‘package:stats’:\n",
      "\n",
      "    filter, lag\n",
      "\n",
      "The following objects are masked from ‘package:base’:\n",
      "\n",
      "    intersect, setdiff, setequal, union\n",
      "\n",
      "\n",
      "Attaching package: ‘dbplyr’\n",
      "\n",
      "The following objects are masked from ‘package:dplyr’:\n",
      "\n",
      "    ident, sql\n",
      "\n",
      "Loading required package: DBI\n"
     ]
    },
    {
     "data": {
      "text/plain": [
       "<PostgreSQLResult>"
      ]
     },
     "metadata": {},
     "output_type": "display_data"
    }
   ],
   "source": [
    "if(!(\"dplyr\" %in% installed.packages()) |!(\"dbplyr\" %in% installed.packages()) | !(\"RPostgreSQL\" %in% installed.packages()))  { \n",
    "    install.packages(c(\"dplyr\",\"dbplyr\",\"RPostgreSQL\"))\n",
    "}\n",
    "\n",
    "                     \n",
    "library(dplyr); library(dbplyr); library(RPostgreSQL); library(DBI)\n",
    "\n",
    "# Create a database connection\n",
    "user <- 'jraffa'\n",
    "host <- '127.0.0.1'\n",
    "dbname <- 'mimic'\n",
    "schema <- 'mimiciii,public'\n",
    "port <- 5455\n",
    "passwd <- readLines(\"~/.pwfile_\")\n",
    "\n",
    "pg_src <- src_postgres(dbname = dbname, \n",
    "                       host = host, port = port, \n",
    "                       user = user, password = passwd,\n",
    "                       options=paste0(\"-c search_path=\", schema))\n",
    "\n",
    "m <- dbDriver(\"PostgreSQL\")\n",
    "con <- dbConnect(m, user=user, password=passwd, dbname=dbname,host=host,port=port) # The trickiest parts\n",
    "dbSendStatement(con,paste0(\"SET search_path TO \",schema))"
   ]
  },
  {
   "cell_type": "code",
   "execution_count": 2,
   "metadata": {
    "collapsed": true
   },
   "outputs": [],
   "source": [
    "# Run query and assign the results to a DataFrame\n",
    "# Requires the icustay_detail view from:\n",
    "# https://github.com/MIT-LCP/mimic-code/tree/master/concepts/demographics\n",
    "\n",
    "\n",
    "# To get these views, the following may work (uncomment to run):\n",
    "## NOTE:\n",
    "## This will overwrite old views on your machine if you had already created them.\n",
    "## If you have them already, you likely do not need to run this code!.\n",
    "## This will take a while, possibly several hours, depending on the speed of your computer/network\n",
    "#\n",
    "#\n",
    "## if(!(\"MIMICutil\" %in% installed.packages())) { devtools::install_github(\"jraffa/MIMICutil\") }\n",
    "## \n",
    "## library(MIMICutil); library(RPostgreSQL)\n",
    "## v <- get_views(URLlist=\"https://raw.githubusercontent.com/jraffa/MIMICutil/master/mat_view_urls_working\",dplyrDB=pg_src,con=con)\n",
    "\n",
    "###\n",
    "\n",
    "query = \"\n",
    "WITH first_icu AS (\n",
    "    SELECT i.subject_id, i.hadm_id, i.icustay_id, i.gender, i.admittime admittime_hospital, \n",
    "      i.dischtime dischtime_hospital, i.los_hospital, i.age, i.admission_type, \n",
    "      i.hospital_expire_flag, i.intime intime_icu, i.outtime outtime_icu, i.los_icu, \n",
    "      s.first_careunit\n",
    "    FROM icustay_detail i\n",
    "    LEFT JOIN icustays s\n",
    "    ON i.icustay_id = s.icustay_id\n",
    "    WHERE i.hospstay_seq = 1\n",
    "      AND i.icustay_seq = 1\n",
    "      AND i.age >= 16\n",
    ")\n",
    "SELECT f.*, o.icustay_expire_flag, o.oasis, o.oasis_prob\n",
    "FROM first_icu f\n",
    "LEFT JOIN oasis o\n",
    "ON f.icustay_id = o.icustay_id;\n",
    "\"\n",
    "\n",
    "rs <- dbSendQuery(con,query)\n",
    "dat <- dbFetch(rs)\n",
    "\n",
    "# or using dplyr:\n",
    "# uncomment below\n",
    "#\n",
    "## icustay_detail_tbl <- tbl(pg_src,\"icustay_detail\")\n",
    "## icustays_tbl <- tbl(pg_src,\"icustays\")\n",
    "## oasis_tbl  <- tbl(pg_src,\"oasis\")\n",
    "##\n",
    "## first_icu_tbl <- icustay_detail_tbl %>%  select(subject_id,hadm_id, icustay_id, gender,admittime_hospital=admittime,  \n",
    "##      dischtime_hospital=dischtime, los_hospital, admission_type, \n",
    "##   hospital_expire_flag,intime_icu=intime,  outtime_icu=outtime, los_icu,age,hospstay_seq,icustay_seq) %>% \n",
    "## left_join(icustays_tbl %>% select(icustay_id, first_careunit) ,by=\"icustay_id\") %>% \n",
    "##                filter(hospstay_seq==1,icustay_seq ==1,age>=16) %>% select(-hospstay_seq,-icustay_seq)\n",
    "\n",
    "## dat <- first_icu_tbl %>% \n",
    "##    left_join(oasis_tbl %>% select(icustay_id,icustay_expire_flag, oasis, oasis_prob),by=\"icustay_id\") %>% \n",
    "##    collect(n=Inf)"
   ]
  },
  {
   "cell_type": "markdown",
   "metadata": {},
   "source": [
    "# Check Data Extracted\n",
    "\n",
    "Always a good idea to inspect the data after you have extracted it.  We will look at the first six patients (rows), and then check the number of rows, and get some summary statistics of the dataset."
   ]
  },
  {
   "cell_type": "code",
   "execution_count": 3,
   "metadata": {},
   "outputs": [
    {
     "data": {
      "text/html": [
       "<table>\n",
       "<thead><tr><th scope=col>subject_id</th><th scope=col>hadm_id</th><th scope=col>icustay_id</th><th scope=col>gender</th><th scope=col>admittime_hospital</th><th scope=col>dischtime_hospital</th><th scope=col>los_hospital</th><th scope=col>age</th><th scope=col>admission_type</th><th scope=col>hospital_expire_flag</th><th scope=col>intime_icu</th><th scope=col>outtime_icu</th><th scope=col>los_icu</th><th scope=col>first_careunit</th><th scope=col>icustay_expire_flag</th><th scope=col>oasis</th><th scope=col>oasis_prob</th></tr></thead>\n",
       "<tbody>\n",
       "\t<tr><td> 3                 </td><td>145834             </td><td>211552             </td><td>M                  </td><td>2101-10-20 19:08:00</td><td>2101-10-31 13:58:00</td><td>10.7847            </td><td>76.5268            </td><td>EMERGENCY          </td><td>0                  </td><td>2101-10-20 19:10:11</td><td>2101-10-26 20:43:09</td><td>6.0646             </td><td>MICU               </td><td>0                  </td><td>57                 </td><td>0.748927417        </td></tr>\n",
       "\t<tr><td> 6                 </td><td>107064             </td><td>228232             </td><td>F                  </td><td>2175-05-30 07:15:00</td><td>2175-06-15 16:00:00</td><td>16.3646            </td><td>65.9407            </td><td>ELECTIVE           </td><td>0                  </td><td>2175-05-30 21:30:54</td><td>2175-06-03 13:39:54</td><td>3.6729             </td><td>SICU               </td><td>0                  </td><td>11                 </td><td>0.008391576        </td></tr>\n",
       "\t<tr><td> 9                 </td><td>150750             </td><td>220597             </td><td>M                  </td><td>2149-11-09 13:06:00</td><td>2149-11-14 10:15:00</td><td> 4.8813            </td><td>41.7902            </td><td>EMERGENCY          </td><td>1                  </td><td>2149-11-09 13:07:02</td><td>2149-11-14 20:52:14</td><td>5.3231             </td><td>MICU               </td><td>1                  </td><td>35                 </td><td>0.152891534        </td></tr>\n",
       "\t<tr><td>11                 </td><td>194540             </td><td>229441             </td><td>F                  </td><td>2178-04-16 06:18:00</td><td>2178-05-11 19:00:00</td><td>25.5292            </td><td>50.1483            </td><td>EMERGENCY          </td><td>0                  </td><td>2178-04-16 06:19:32</td><td>2178-04-17 20:21:05</td><td>1.5844             </td><td>SICU               </td><td>0                  </td><td>29                 </td><td>0.077479229        </td></tr>\n",
       "\t<tr><td>13                 </td><td>143045             </td><td>263738             </td><td>F                  </td><td>2167-01-08 18:43:00</td><td>2167-01-15 15:15:00</td><td> 6.8556            </td><td>39.8661            </td><td>EMERGENCY          </td><td>0                  </td><td>2167-01-08 18:44:25</td><td>2167-01-12 10:43:31</td><td>3.6660             </td><td>CCU                </td><td>0                  </td><td>34                 </td><td>0.137098607        </td></tr>\n",
       "\t<tr><td>17                 </td><td>194023             </td><td>277042             </td><td>F                  </td><td>2134-12-27 07:15:00</td><td>2134-12-31 16:05:00</td><td> 4.3681            </td><td>47.4543            </td><td>ELECTIVE           </td><td>0                  </td><td>2134-12-27 16:21:48</td><td>2134-12-29 18:04:03</td><td>2.0710             </td><td>CSRU               </td><td>0                  </td><td>38                 </td><td>0.209225538        </td></tr>\n",
       "</tbody>\n",
       "</table>\n"
      ],
      "text/latex": [
       "\\begin{tabular}{r|lllllllllllllllll}\n",
       " subject\\_id & hadm\\_id & icustay\\_id & gender & admittime\\_hospital & dischtime\\_hospital & los\\_hospital & age & admission\\_type & hospital\\_expire\\_flag & intime\\_icu & outtime\\_icu & los\\_icu & first\\_careunit & icustay\\_expire\\_flag & oasis & oasis\\_prob\\\\\n",
       "\\hline\n",
       "\t  3                  & 145834              & 211552              & M                   & 2101-10-20 19:08:00 & 2101-10-31 13:58:00 & 10.7847             & 76.5268             & EMERGENCY           & 0                   & 2101-10-20 19:10:11 & 2101-10-26 20:43:09 & 6.0646              & MICU                & 0                   & 57                  & 0.748927417        \\\\\n",
       "\t  6                  & 107064              & 228232              & F                   & 2175-05-30 07:15:00 & 2175-06-15 16:00:00 & 16.3646             & 65.9407             & ELECTIVE            & 0                   & 2175-05-30 21:30:54 & 2175-06-03 13:39:54 & 3.6729              & SICU                & 0                   & 11                  & 0.008391576        \\\\\n",
       "\t  9                  & 150750              & 220597              & M                   & 2149-11-09 13:06:00 & 2149-11-14 10:15:00 &  4.8813             & 41.7902             & EMERGENCY           & 1                   & 2149-11-09 13:07:02 & 2149-11-14 20:52:14 & 5.3231              & MICU                & 1                   & 35                  & 0.152891534        \\\\\n",
       "\t 11                  & 194540              & 229441              & F                   & 2178-04-16 06:18:00 & 2178-05-11 19:00:00 & 25.5292             & 50.1483             & EMERGENCY           & 0                   & 2178-04-16 06:19:32 & 2178-04-17 20:21:05 & 1.5844              & SICU                & 0                   & 29                  & 0.077479229        \\\\\n",
       "\t 13                  & 143045              & 263738              & F                   & 2167-01-08 18:43:00 & 2167-01-15 15:15:00 &  6.8556             & 39.8661             & EMERGENCY           & 0                   & 2167-01-08 18:44:25 & 2167-01-12 10:43:31 & 3.6660              & CCU                 & 0                   & 34                  & 0.137098607        \\\\\n",
       "\t 17                  & 194023              & 277042              & F                   & 2134-12-27 07:15:00 & 2134-12-31 16:05:00 &  4.3681             & 47.4543             & ELECTIVE            & 0                   & 2134-12-27 16:21:48 & 2134-12-29 18:04:03 & 2.0710              & CSRU                & 0                   & 38                  & 0.209225538        \\\\\n",
       "\\end{tabular}\n"
      ],
      "text/markdown": [
       "\n",
       "subject_id | hadm_id | icustay_id | gender | admittime_hospital | dischtime_hospital | los_hospital | age | admission_type | hospital_expire_flag | intime_icu | outtime_icu | los_icu | first_careunit | icustay_expire_flag | oasis | oasis_prob | \n",
       "|---|---|---|---|---|---|\n",
       "|  3                  | 145834              | 211552              | M                   | 2101-10-20 19:08:00 | 2101-10-31 13:58:00 | 10.7847             | 76.5268             | EMERGENCY           | 0                   | 2101-10-20 19:10:11 | 2101-10-26 20:43:09 | 6.0646              | MICU                | 0                   | 57                  | 0.748927417         | \n",
       "|  6                  | 107064              | 228232              | F                   | 2175-05-30 07:15:00 | 2175-06-15 16:00:00 | 16.3646             | 65.9407             | ELECTIVE            | 0                   | 2175-05-30 21:30:54 | 2175-06-03 13:39:54 | 3.6729              | SICU                | 0                   | 11                  | 0.008391576         | \n",
       "|  9                  | 150750              | 220597              | M                   | 2149-11-09 13:06:00 | 2149-11-14 10:15:00 |  4.8813             | 41.7902             | EMERGENCY           | 1                   | 2149-11-09 13:07:02 | 2149-11-14 20:52:14 | 5.3231              | MICU                | 1                   | 35                  | 0.152891534         | \n",
       "| 11                  | 194540              | 229441              | F                   | 2178-04-16 06:18:00 | 2178-05-11 19:00:00 | 25.5292             | 50.1483             | EMERGENCY           | 0                   | 2178-04-16 06:19:32 | 2178-04-17 20:21:05 | 1.5844              | SICU                | 0                   | 29                  | 0.077479229         | \n",
       "| 13                  | 143045              | 263738              | F                   | 2167-01-08 18:43:00 | 2167-01-15 15:15:00 |  6.8556             | 39.8661             | EMERGENCY           | 0                   | 2167-01-08 18:44:25 | 2167-01-12 10:43:31 | 3.6660              | CCU                 | 0                   | 34                  | 0.137098607         | \n",
       "| 17                  | 194023              | 277042              | F                   | 2134-12-27 07:15:00 | 2134-12-31 16:05:00 |  4.3681             | 47.4543             | ELECTIVE            | 0                   | 2134-12-27 16:21:48 | 2134-12-29 18:04:03 | 2.0710              | CSRU                | 0                   | 38                  | 0.209225538         | \n",
       "\n",
       "\n"
      ],
      "text/plain": [
       "  subject_id hadm_id icustay_id gender admittime_hospital  dischtime_hospital \n",
       "1  3         145834  211552     M      2101-10-20 19:08:00 2101-10-31 13:58:00\n",
       "2  6         107064  228232     F      2175-05-30 07:15:00 2175-06-15 16:00:00\n",
       "3  9         150750  220597     M      2149-11-09 13:06:00 2149-11-14 10:15:00\n",
       "4 11         194540  229441     F      2178-04-16 06:18:00 2178-05-11 19:00:00\n",
       "5 13         143045  263738     F      2167-01-08 18:43:00 2167-01-15 15:15:00\n",
       "6 17         194023  277042     F      2134-12-27 07:15:00 2134-12-31 16:05:00\n",
       "  los_hospital age     admission_type hospital_expire_flag intime_icu         \n",
       "1 10.7847      76.5268 EMERGENCY      0                    2101-10-20 19:10:11\n",
       "2 16.3646      65.9407 ELECTIVE       0                    2175-05-30 21:30:54\n",
       "3  4.8813      41.7902 EMERGENCY      1                    2149-11-09 13:07:02\n",
       "4 25.5292      50.1483 EMERGENCY      0                    2178-04-16 06:19:32\n",
       "5  6.8556      39.8661 EMERGENCY      0                    2167-01-08 18:44:25\n",
       "6  4.3681      47.4543 ELECTIVE       0                    2134-12-27 16:21:48\n",
       "  outtime_icu         los_icu first_careunit icustay_expire_flag oasis\n",
       "1 2101-10-26 20:43:09 6.0646  MICU           0                   57   \n",
       "2 2175-06-03 13:39:54 3.6729  SICU           0                   11   \n",
       "3 2149-11-14 20:52:14 5.3231  MICU           1                   35   \n",
       "4 2178-04-17 20:21:05 1.5844  SICU           0                   29   \n",
       "5 2167-01-12 10:43:31 3.6660  CCU            0                   34   \n",
       "6 2134-12-29 18:04:03 2.0710  CSRU           0                   38   \n",
       "  oasis_prob \n",
       "1 0.748927417\n",
       "2 0.008391576\n",
       "3 0.152891534\n",
       "4 0.077479229\n",
       "5 0.137098607\n",
       "6 0.209225538"
      ]
     },
     "metadata": {},
     "output_type": "display_data"
    },
    {
     "data": {
      "text/html": [
       "38557"
      ],
      "text/latex": [
       "38557"
      ],
      "text/markdown": [
       "38557"
      ],
      "text/plain": [
       "[1] 38557"
      ]
     },
     "metadata": {},
     "output_type": "display_data"
    },
    {
     "data": {
      "text/plain": [
       "   subject_id       hadm_id         icustay_id        gender         \n",
       " Min.   :    3   Min.   :100001   Min.   :200003   Length:38557      \n",
       " 1st Qu.:13980   1st Qu.:124930   1st Qu.:225240   Class :character  \n",
       " Median :27912   Median :150093   Median :250275   Mode  :character  \n",
       " Mean   :38266   Mean   :150038   Mean   :250222                     \n",
       " 3rd Qu.:62965   3rd Qu.:175223   3rd Qu.:275288                     \n",
       " Max.   :99999   Max.   :199999   Max.   :299999                     \n",
       "                                                                     \n",
       " admittime_hospital            dischtime_hospital             los_hospital     \n",
       " Min.   :2100-06-07 19:59:00   Min.   :2100-06-09 17:09:00   Min.   : -0.9451  \n",
       " 1st Qu.:2125-09-28 09:42:00   1st Qu.:2125-10-08 17:35:00   1st Qu.:  4.0479  \n",
       " Median :2150-12-27 04:35:00   Median :2151-01-04 15:50:00   Median :  6.8938  \n",
       " Mean   :2150-12-13 00:38:20   Mean   :2150-12-22 22:10:28   Mean   :  9.8973  \n",
       " 3rd Qu.:2176-05-16 07:15:00   3rd Qu.:2176-05-23 14:40:00   3rd Qu.: 11.8833  \n",
       " Max.   :2208-08-19 07:15:00   Max.   :2208-08-25 14:59:00   Max.   :294.6604  \n",
       "                                                                               \n",
       "      age         admission_type     hospital_expire_flag\n",
       " Min.   : 16.02   Length:38557       Min.   :0.0000      \n",
       " 1st Qu.: 52.32   Class :character   1st Qu.:0.0000      \n",
       " Median : 65.67   Mode  :character   Median :0.0000      \n",
       " Mean   : 74.57                      Mean   :0.1147      \n",
       " 3rd Qu.: 77.90                      3rd Qu.:0.0000      \n",
       " Max.   :310.28                      Max.   :1.0000      \n",
       "                                                         \n",
       "   intime_icu                   outtime_icu                     los_icu        \n",
       " Min.   :2100-06-07 20:00:22   Min.   :2100-06-08 14:59:31   Min.   :  0.0001  \n",
       " 1st Qu.:2125-09-28 09:46:09   1st Qu.:2125-10-02 14:26:16   1st Qu.:  1.1863  \n",
       " Median :2150-12-27 11:21:41   Median :2150-12-30 01:03:44   Median :  2.0952  \n",
       " Mean   :2150-12-14 01:20:00   Mean   :2150-12-18 11:17:37   Mean   :  4.0587  \n",
       " 3rd Qu.:2176-05-17 09:06:35   3rd Qu.:2176-05-20 12:42:46   3rd Qu.:  4.0921  \n",
       " Max.   :2208-08-19 13:03:37   Max.   :2208-08-21 05:38:09   Max.   :153.9280  \n",
       "                               NA's   :2                     NA's   :2         \n",
       " first_careunit     icustay_expire_flag     oasis         oasis_prob      \n",
       " Length:38557       Min.   :0.00000     Min.   : 3.00   Min.   :0.003042  \n",
       " Class :character   1st Qu.:0.00000     1st Qu.:25.00   1st Qu.:0.048012  \n",
       " Mode  :character   Median :0.00000     Median :31.00   Median :0.097783  \n",
       "                    Mean   :0.08284     Mean   :31.16   Mean   :0.143443  \n",
       "                    3rd Qu.:0.00000     3rd Qu.:37.00   3rd Qu.:0.188911  \n",
       "                    Max.   :1.00000     Max.   :70.00   Max.   :0.939936  \n",
       "                                                                          "
      ]
     },
     "metadata": {},
     "output_type": "display_data"
    }
   ],
   "source": [
    "# Have a look at the dataset:\n",
    "head(dat)\n",
    "\n",
    "nrow(dat) #38557\n",
    "\n",
    "summary(dat)"
   ]
  },
  {
   "cell_type": "markdown",
   "metadata": {},
   "source": [
    "# Add day of week to DataFrame\n",
    "\n",
    "If we are going to examine the weekend effect, we need to pull this out of the dataset, as you can see, all we have above are dates.  We will define a weekend, as anytime between Saturday (00:00:00) until Sunday (23:59:59).  The dates above are shifted, and that's why they look odd, but they are matched on the day of week, so this aspect is preserved."
   ]
  },
  {
   "cell_type": "code",
   "execution_count": 4,
   "metadata": {},
   "outputs": [
    {
     "name": "stderr",
     "output_type": "stream",
     "text": [
      "\n",
      "Attaching package: ‘lubridate’\n",
      "\n",
      "The following object is masked from ‘package:base’:\n",
      "\n",
      "    date\n",
      "\n"
     ]
    },
    {
     "data": {
      "text/plain": [
       "\n",
       "   1    2    3    4    5    6    7 \n",
       "3960 6097 6141 5985 5876 6263 4235 "
      ]
     },
     "metadata": {},
     "output_type": "display_data"
    },
    {
     "data": {
      "text/plain": [
       "\n",
       "   Sunday    Monday   Tuesday Wednesday  Thursday    Friday  Saturday \n",
       "     3960      6097      6141      5985      5876      6263      4235 "
      ]
     },
     "metadata": {},
     "output_type": "display_data"
    },
    {
     "data": {
      "text/plain": [
       "\n",
       "FALSE  TRUE \n",
       "30362  8195 "
      ]
     },
     "metadata": {},
     "output_type": "display_data"
    }
   ],
   "source": [
    "if(!(\"lubridate\" %in% installed.packages())) { install.packages(\"lubridate\")}\n",
    "\n",
    "library(lubridate)\n",
    "\n",
    "dat$dow <- as.factor(wday(dat$intime_icu ))\n",
    "table(dat$dow)\n",
    "# Convert to text levels\n",
    "levels(dat$dow) <- c(\"Sunday\",\"Monday\",\"Tuesday\",\"Wednesday\",\"Thursday\",\"Friday\",\"Saturday\",\"Sunday\")\n",
    "table(dat$dow)\n",
    "\n",
    "dat$weekend <- dat$dow %in% c(\"Sunday\",\"Saturday\")\n",
    "table(dat$weekend)"
   ]
  },
  {
   "cell_type": "markdown",
   "metadata": {},
   "source": [
    "# Produce some Summary Statistics by DOW and Weekday vs. Weekend\n",
    "\n",
    "Next, it's good to look at some basic summaries of the data.  We will compute simple averages and percentages/counts for each of the variables we have extracted, and look at it by day of week (`dow`) and weekend (`weekend`).\n"
   ]
  },
  {
   "cell_type": "code",
   "execution_count": 5,
   "metadata": {},
   "outputs": [
    {
     "data": {
      "text/html": [
       "<table>\n",
       "<thead><tr><th scope=col>variable_name</th><th scope=col>level</th><th scope=col>Sunday</th><th scope=col>Monday</th><th scope=col>Tuesday</th><th scope=col>Wednesday</th><th scope=col>Thursday</th><th scope=col>Friday</th><th scope=col>Saturday</th><th scope=col>p</th><th scope=col>test</th></tr></thead>\n",
       "<tbody>\n",
       "\t<tr><td>n                       </td><td>                        </td><td> 3960                   </td><td> 6097                   </td><td> 6141                   </td><td> 5985                   </td><td> 5876                   </td><td> 6263                   </td><td> 4235                   </td><td>                        </td><td>                        </td></tr>\n",
       "\t<tr><td>gender (%)              </td><td>F                       </td><td> 1736 (43.8)            </td><td> 2559 (42.0)            </td><td> 2671 (43.5)            </td><td> 2636 (44.0)            </td><td> 2603 (44.3)            </td><td> 2662 (42.5)            </td><td> 1857 (43.8)            </td><td> 0.097                  </td><td>                        </td></tr>\n",
       "\t<tr><td>                        </td><td>M                       </td><td> 2224 (56.2)            </td><td> 3538 (58.0)            </td><td> 3470 (56.5)            </td><td> 3349 (56.0)            </td><td> 3273 (55.7)            </td><td> 3601 (57.5)            </td><td> 2378 (56.2)            </td><td>                        </td><td>                        </td></tr>\n",
       "\t<tr><td>los_hospital (mean (sd))</td><td>                        </td><td> 9.82 (10.70)           </td><td> 9.71 (9.92)            </td><td> 9.86 (10.58)           </td><td> 9.77 (10.22)           </td><td> 9.88 (10.90)           </td><td>10.23 (11.61)           </td><td>10.00 (10.84)           </td><td> 0.141                  </td><td>                        </td></tr>\n",
       "\t<tr><td>age (mean (sd))         </td><td>                        </td><td>75.26 (60.66)           </td><td>73.13 (51.37)           </td><td>75.48 (55.22)           </td><td>74.16 (53.88)           </td><td>75.51 (55.46)           </td><td>74.56 (53.22)           </td><td>73.92 (58.58)           </td><td> 0.167                  </td><td>                        </td></tr>\n",
       "\t<tr><td><span style=white-space:pre-wrap>admission_type (%)      </span></td><td>ELECTIVE                                                        </td><td><span style=white-space:pre-wrap>  101 ( 2.6) </span>           </td><td> 1265 (20.7)                                                    </td><td> 1292 (21.0)                                                    </td><td> 1243 (20.8)                                                    </td><td><span style=white-space:pre-wrap>  999 (17.0) </span>           </td><td> 1016 (16.2)                                                    </td><td><span style=white-space:pre-wrap>  162 ( 3.8) </span>           </td><td>&lt;0.001                                                       </td><td>                                                                </td></tr>\n",
       "\t<tr><td>                        </td><td>EMERGENCY               </td><td> 3681 (93.0)            </td><td> 4687 (76.9)            </td><td> 4704 (76.6)            </td><td> 4600 (76.9)            </td><td> 4746 (80.8)            </td><td> 5118 (81.7)            </td><td> 3852 (91.0)            </td><td>                        </td><td>                        </td></tr>\n",
       "\t<tr><td>                        </td><td>URGENT                  </td><td>  178 ( 4.5)            </td><td>  145 ( 2.4)            </td><td>  145 ( 2.4)            </td><td>  142 ( 2.4)            </td><td>  131 ( 2.2)            </td><td>  129 ( 2.1)            </td><td>  221 ( 5.2)            </td><td>                        </td><td>                        </td></tr>\n",
       "\t<tr><td>hospital_expire_flag (%)                         </td><td><span style=white-space:pre-wrap>0        </span></td><td> 3388 (85.6)                                     </td><td> 5468 (89.7)                                     </td><td> 5491 (89.4)                                     </td><td> 5350 (89.4)                                     </td><td> 5202 (88.5)                                     </td><td> 5576 (89.0)                                     </td><td> 3658 (86.4)                                     </td><td>&lt;0.001                                        </td><td>                                                 </td></tr>\n",
       "\t<tr><td>                        </td><td>1                       </td><td>  572 (14.4)            </td><td>  629 (10.3)            </td><td>  650 (10.6)            </td><td>  635 (10.6)            </td><td>  674 (11.5)            </td><td>  687 (11.0)            </td><td>  577 (13.6)            </td><td>                        </td><td>                        </td></tr>\n",
       "\t<tr><td><span style=white-space:pre-wrap>los_icu (mean (sd))     </span></td><td><span style=white-space:pre-wrap>         </span>               </td><td> 4.44 (6.29)                                                    </td><td> 3.83 (5.52)                                                    </td><td> 3.80 (5.65)                                                    </td><td> 4.04 (5.94)                                                    </td><td> 3.96 (6.12)                                                    </td><td> 4.15 (6.19)                                                    </td><td> 4.42 (6.58)                                                    </td><td>&lt;0.001                                                       </td><td>                                                                </td></tr>\n",
       "\t<tr><td>icustay_expire_flag (%)                          </td><td><span style=white-space:pre-wrap>0        </span></td><td> 3548 (89.6)                                     </td><td> 5650 (92.7)                                     </td><td> 5673 (92.4)                                     </td><td> 5514 (92.1)                                     </td><td> 5399 (91.9)                                     </td><td> 5768 (92.1)                                     </td><td> 3811 (90.0)                                     </td><td>&lt;0.001                                        </td><td>                                                 </td></tr>\n",
       "\t<tr><td>                        </td><td>1                       </td><td>  412 (10.4)            </td><td>  447 ( 7.3)            </td><td>  468 ( 7.6)            </td><td>  471 ( 7.9)            </td><td>  477 ( 8.1)            </td><td>  495 ( 7.9)            </td><td>  424 (10.0)            </td><td>                        </td><td>                        </td></tr>\n",
       "\t<tr><td><span style=white-space:pre-wrap>oasis (mean (sd))       </span></td><td><span style=white-space:pre-wrap>         </span>               </td><td>32.07 (9.02)                                                    </td><td>31.21 (8.77)                                                    </td><td>30.90 (8.77)                                                    </td><td>30.58 (9.11)                                                    </td><td>31.10 (8.82)                                                    </td><td>31.17 (9.02)                                                    </td><td>31.49 (9.27)                                                    </td><td>&lt;0.001                                                       </td><td>                                                                </td></tr>\n",
       "\t<tr><td><span style=white-space:pre-wrap>oasis_prob (mean (sd))  </span></td><td><span style=white-space:pre-wrap>         </span>               </td><td> 0.16 (0.15)                                                    </td><td> 0.14 (0.14)                                                    </td><td> 0.14 (0.14)                                                    </td><td> 0.14 (0.14)                                                    </td><td> 0.14 (0.14)                                                    </td><td> 0.14 (0.14)                                                    </td><td> 0.15 (0.15)                                                    </td><td>&lt;0.001                                                       </td><td>                                                                </td></tr>\n",
       "\t<tr><td><span style=white-space:pre-wrap>first_careunit (%)      </span></td><td><span style=white-space:pre-wrap>CCU      </span>               </td><td><span style=white-space:pre-wrap>  621 (15.7) </span>           </td><td><span style=white-space:pre-wrap>  918 (15.1) </span>           </td><td><span style=white-space:pre-wrap>  919 (15.0) </span>           </td><td><span style=white-space:pre-wrap>  851 (14.2) </span>           </td><td><span style=white-space:pre-wrap>  850 (14.5) </span>           </td><td><span style=white-space:pre-wrap>  838 (13.4) </span>           </td><td><span style=white-space:pre-wrap>  695 (16.4) </span>           </td><td>&lt;0.001                                                       </td><td>                                                                </td></tr>\n",
       "\t<tr><td>                        </td><td>CSRU                    </td><td>  194 ( 4.9)            </td><td> 1632 (26.8)            </td><td> 1575 (25.6)            </td><td> 1268 (21.2)            </td><td> 1282 (21.8)            </td><td> 1416 (22.6)            </td><td>  237 ( 5.6)            </td><td>                        </td><td>                        </td></tr>\n",
       "\t<tr><td>                        </td><td>MICU                    </td><td> 1706 (43.1)            </td><td> 1940 (31.8)            </td><td> 2019 (32.9)            </td><td> 2020 (33.8)            </td><td> 2020 (34.4)            </td><td> 2139 (34.2)            </td><td> 1765 (41.7)            </td><td>                        </td><td>                        </td></tr>\n",
       "\t<tr><td>                        </td><td>SICU                    </td><td>  743 (18.8)            </td><td>  865 (14.2)            </td><td>  933 (15.2)            </td><td> 1038 (17.3)            </td><td>  996 (17.0)            </td><td> 1044 (16.7)            </td><td>  743 (17.5)            </td><td>                        </td><td>                        </td></tr>\n",
       "\t<tr><td>                        </td><td>TSICU                   </td><td>  696 (17.6)            </td><td>  742 (12.2)            </td><td>  695 (11.3)            </td><td>  808 (13.5)            </td><td>  728 (12.4)            </td><td>  826 (13.2)            </td><td>  795 (18.8)            </td><td>                        </td><td>                        </td></tr>\n",
       "</tbody>\n",
       "</table>\n"
      ],
      "text/latex": [
       "\\begin{tabular}{r|lllllllllll}\n",
       " variable\\_name & level & Sunday & Monday & Tuesday & Wednesday & Thursday & Friday & Saturday & p & test\\\\\n",
       "\\hline\n",
       "\t n                        &                          &  3960                    &  6097                    &  6141                    &  5985                    &  5876                    &  6263                    &  4235                    &                          &                         \\\\\n",
       "\t gender (\\%)               & F                          &  1736 (43.8)               &  2559 (42.0)               &  2671 (43.5)               &  2636 (44.0)               &  2603 (44.3)               &  2662 (42.5)               &  1857 (43.8)               &  0.097                     &                           \\\\\n",
       "\t                          & M                        &  2224 (56.2)             &  3538 (58.0)             &  3470 (56.5)             &  3349 (56.0)             &  3273 (55.7)             &  3601 (57.5)             &  2378 (56.2)             &                          &                         \\\\\n",
       "\t los\\_hospital (mean (sd)) &                            &  9.82 (10.70)              &  9.71 (9.92)               &  9.86 (10.58)              &  9.77 (10.22)              &  9.88 (10.90)              & 10.23 (11.61)              & 10.00 (10.84)              &  0.141                     &                           \\\\\n",
       "\t age (mean (sd))          &                          & 75.26 (60.66)            & 73.13 (51.37)            & 75.48 (55.22)            & 74.16 (53.88)            & 75.51 (55.46)            & 74.56 (53.22)            & 73.92 (58.58)            &  0.167                   &                         \\\\\n",
       "\t admission\\_type (\\%)       & ELECTIVE                     &   101 ( 2.6)                 &  1265 (20.7)                 &  1292 (21.0)                 &  1243 (20.8)                 &   999 (17.0)                 &  1016 (16.2)                 &   162 ( 3.8)                 & <0.001                       &                             \\\\\n",
       "\t                          & EMERGENCY                &  3681 (93.0)             &  4687 (76.9)             &  4704 (76.6)             &  4600 (76.9)             &  4746 (80.8)             &  5118 (81.7)             &  3852 (91.0)             &                          &                         \\\\\n",
       "\t                          & URGENT                   &   178 ( 4.5)             &   145 ( 2.4)             &   145 ( 2.4)             &   142 ( 2.4)             &   131 ( 2.2)             &   129 ( 2.1)             &   221 ( 5.2)             &                          &                         \\\\\n",
       "\t hospital\\_expire\\_flag (\\%) & 0                              &  3388 (85.6)                   &  5468 (89.7)                   &  5491 (89.4)                   &  5350 (89.4)                   &  5202 (88.5)                   &  5576 (89.0)                   &  3658 (86.4)                   & <0.001                         &                               \\\\\n",
       "\t                          & 1                        &   572 (14.4)             &   629 (10.3)             &   650 (10.6)             &   635 (10.6)             &   674 (11.5)             &   687 (11.0)             &   577 (13.6)             &                          &                         \\\\\n",
       "\t los\\_icu (mean (sd))      &                            &  4.44 (6.29)               &  3.83 (5.52)               &  3.80 (5.65)               &  4.04 (5.94)               &  3.96 (6.12)               &  4.15 (6.19)               &  4.42 (6.58)               & <0.001                     &                           \\\\\n",
       "\t icustay\\_expire\\_flag (\\%)  & 0                              &  3548 (89.6)                   &  5650 (92.7)                   &  5673 (92.4)                   &  5514 (92.1)                   &  5399 (91.9)                   &  5768 (92.1)                   &  3811 (90.0)                   & <0.001                         &                               \\\\\n",
       "\t                          & 1                        &   412 (10.4)             &   447 ( 7.3)             &   468 ( 7.6)             &   471 ( 7.9)             &   477 ( 8.1)             &   495 ( 7.9)             &   424 (10.0)             &                          &                         \\\\\n",
       "\t oasis (mean (sd))        &                          & 32.07 (9.02)             & 31.21 (8.77)             & 30.90 (8.77)             & 30.58 (9.11)             & 31.10 (8.82)             & 31.17 (9.02)             & 31.49 (9.27)             & <0.001                   &                         \\\\\n",
       "\t oasis\\_prob (mean (sd))   &                            &  0.16 (0.15)               &  0.14 (0.14)               &  0.14 (0.14)               &  0.14 (0.14)               &  0.14 (0.14)               &  0.14 (0.14)               &  0.15 (0.15)               & <0.001                     &                           \\\\\n",
       "\t first\\_careunit (\\%)       & CCU                          &   621 (15.7)                 &   918 (15.1)                 &   919 (15.0)                 &   851 (14.2)                 &   850 (14.5)                 &   838 (13.4)                 &   695 (16.4)                 & <0.001                       &                             \\\\\n",
       "\t                          & CSRU                     &   194 ( 4.9)             &  1632 (26.8)             &  1575 (25.6)             &  1268 (21.2)             &  1282 (21.8)             &  1416 (22.6)             &   237 ( 5.6)             &                          &                         \\\\\n",
       "\t                          & MICU                     &  1706 (43.1)             &  1940 (31.8)             &  2019 (32.9)             &  2020 (33.8)             &  2020 (34.4)             &  2139 (34.2)             &  1765 (41.7)             &                          &                         \\\\\n",
       "\t                          & SICU                     &   743 (18.8)             &   865 (14.2)             &   933 (15.2)             &  1038 (17.3)             &   996 (17.0)             &  1044 (16.7)             &   743 (17.5)             &                          &                         \\\\\n",
       "\t                          & TSICU                    &   696 (17.6)             &   742 (12.2)             &   695 (11.3)             &   808 (13.5)             &   728 (12.4)             &   826 (13.2)             &   795 (18.8)             &                          &                         \\\\\n",
       "\\end{tabular}\n"
      ],
      "text/markdown": [
       "\n",
       "variable_name | level | Sunday | Monday | Tuesday | Wednesday | Thursday | Friday | Saturday | p | test | \n",
       "|---|---|---|---|---|---|---|---|---|---|---|---|---|---|---|---|---|---|---|---|\n",
       "| n                        |                          |  3960                    |  6097                    |  6141                    |  5985                    |  5876                    |  6263                    |  4235                    |                          |                          | \n",
       "| gender (%)               | F                        |  1736 (43.8)             |  2559 (42.0)             |  2671 (43.5)             |  2636 (44.0)             |  2603 (44.3)             |  2662 (42.5)             |  1857 (43.8)             |  0.097                   |                          | \n",
       "|                          | M                        |  2224 (56.2)             |  3538 (58.0)             |  3470 (56.5)             |  3349 (56.0)             |  3273 (55.7)             |  3601 (57.5)             |  2378 (56.2)             |                          |                          | \n",
       "| los_hospital (mean (sd)) |                          |  9.82 (10.70)            |  9.71 (9.92)             |  9.86 (10.58)            |  9.77 (10.22)            |  9.88 (10.90)            | 10.23 (11.61)            | 10.00 (10.84)            |  0.141                   |                          | \n",
       "| age (mean (sd))          |                          | 75.26 (60.66)            | 73.13 (51.37)            | 75.48 (55.22)            | 74.16 (53.88)            | 75.51 (55.46)            | 74.56 (53.22)            | 73.92 (58.58)            |  0.167                   |                          | \n",
       "| admission_type (%)       | ELECTIVE                 |   101 ( 2.6)             |  1265 (20.7)             |  1292 (21.0)             |  1243 (20.8)             |   999 (17.0)             |  1016 (16.2)             |   162 ( 3.8)             | <0.001                   |                          | \n",
       "|                          | EMERGENCY                |  3681 (93.0)             |  4687 (76.9)             |  4704 (76.6)             |  4600 (76.9)             |  4746 (80.8)             |  5118 (81.7)             |  3852 (91.0)             |                          |                          | \n",
       "|                          | URGENT                   |   178 ( 4.5)             |   145 ( 2.4)             |   145 ( 2.4)             |   142 ( 2.4)             |   131 ( 2.2)             |   129 ( 2.1)             |   221 ( 5.2)             |                          |                          | \n",
       "| hospital_expire_flag (%) | 0                        |  3388 (85.6)             |  5468 (89.7)             |  5491 (89.4)             |  5350 (89.4)             |  5202 (88.5)             |  5576 (89.0)             |  3658 (86.4)             | <0.001                   |                          | \n",
       "|                          | 1                        |   572 (14.4)             |   629 (10.3)             |   650 (10.6)             |   635 (10.6)             |   674 (11.5)             |   687 (11.0)             |   577 (13.6)             |                          |                          | \n",
       "| los_icu (mean (sd))      |                          |  4.44 (6.29)             |  3.83 (5.52)             |  3.80 (5.65)             |  4.04 (5.94)             |  3.96 (6.12)             |  4.15 (6.19)             |  4.42 (6.58)             | <0.001                   |                          | \n",
       "| icustay_expire_flag (%)  | 0                        |  3548 (89.6)             |  5650 (92.7)             |  5673 (92.4)             |  5514 (92.1)             |  5399 (91.9)             |  5768 (92.1)             |  3811 (90.0)             | <0.001                   |                          | \n",
       "|                          | 1                        |   412 (10.4)             |   447 ( 7.3)             |   468 ( 7.6)             |   471 ( 7.9)             |   477 ( 8.1)             |   495 ( 7.9)             |   424 (10.0)             |                          |                          | \n",
       "| oasis (mean (sd))        |                          | 32.07 (9.02)             | 31.21 (8.77)             | 30.90 (8.77)             | 30.58 (9.11)             | 31.10 (8.82)             | 31.17 (9.02)             | 31.49 (9.27)             | <0.001                   |                          | \n",
       "| oasis_prob (mean (sd))   |                          |  0.16 (0.15)             |  0.14 (0.14)             |  0.14 (0.14)             |  0.14 (0.14)             |  0.14 (0.14)             |  0.14 (0.14)             |  0.15 (0.15)             | <0.001                   |                          | \n",
       "| first_careunit (%)       | CCU                      |   621 (15.7)             |   918 (15.1)             |   919 (15.0)             |   851 (14.2)             |   850 (14.5)             |   838 (13.4)             |   695 (16.4)             | <0.001                   |                          | \n",
       "|                          | CSRU                     |   194 ( 4.9)             |  1632 (26.8)             |  1575 (25.6)             |  1268 (21.2)             |  1282 (21.8)             |  1416 (22.6)             |   237 ( 5.6)             |                          |                          | \n",
       "|                          | MICU                     |  1706 (43.1)             |  1940 (31.8)             |  2019 (32.9)             |  2020 (33.8)             |  2020 (34.4)             |  2139 (34.2)             |  1765 (41.7)             |                          |                          | \n",
       "|                          | SICU                     |   743 (18.8)             |   865 (14.2)             |   933 (15.2)             |  1038 (17.3)             |   996 (17.0)             |  1044 (16.7)             |   743 (17.5)             |                          |                          | \n",
       "|                          | TSICU                    |   696 (17.6)             |   742 (12.2)             |   695 (11.3)             |   808 (13.5)             |   728 (12.4)             |   826 (13.2)             |   795 (18.8)             |                          |                          | \n",
       "\n",
       "\n"
      ],
      "text/plain": [
       "   variable_name            level     Sunday        Monday        Tuesday      \n",
       "1  n                                   3960          6097          6141        \n",
       "2  gender (%)               F          1736 (43.8)   2559 (42.0)   2671 (43.5) \n",
       "3                           M          2224 (56.2)   3538 (58.0)   3470 (56.5) \n",
       "4  los_hospital (mean (sd))            9.82 (10.70)  9.71 (9.92)   9.86 (10.58)\n",
       "5  age (mean (sd))                    75.26 (60.66) 73.13 (51.37) 75.48 (55.22)\n",
       "6  admission_type (%)       ELECTIVE    101 ( 2.6)   1265 (20.7)   1292 (21.0) \n",
       "7                           EMERGENCY  3681 (93.0)   4687 (76.9)   4704 (76.6) \n",
       "8                           URGENT      178 ( 4.5)    145 ( 2.4)    145 ( 2.4) \n",
       "9  hospital_expire_flag (%) 0          3388 (85.6)   5468 (89.7)   5491 (89.4) \n",
       "10                          1           572 (14.4)    629 (10.3)    650 (10.6) \n",
       "11 los_icu (mean (sd))                 4.44 (6.29)   3.83 (5.52)   3.80 (5.65) \n",
       "12 icustay_expire_flag (%)  0          3548 (89.6)   5650 (92.7)   5673 (92.4) \n",
       "13                          1           412 (10.4)    447 ( 7.3)    468 ( 7.6) \n",
       "14 oasis (mean (sd))                  32.07 (9.02)  31.21 (8.77)  30.90 (8.77) \n",
       "15 oasis_prob (mean (sd))              0.16 (0.15)   0.14 (0.14)   0.14 (0.14) \n",
       "16 first_careunit (%)       CCU         621 (15.7)    918 (15.1)    919 (15.0) \n",
       "17                          CSRU        194 ( 4.9)   1632 (26.8)   1575 (25.6) \n",
       "18                          MICU       1706 (43.1)   1940 (31.8)   2019 (32.9) \n",
       "19                          SICU        743 (18.8)    865 (14.2)    933 (15.2) \n",
       "20                          TSICU       696 (17.6)    742 (12.2)    695 (11.3) \n",
       "   Wednesday     Thursday      Friday        Saturday      p      test\n",
       "1   5985          5876          6263          4235                    \n",
       "2   2636 (44.0)   2603 (44.3)   2662 (42.5)   1857 (43.8)   0.097     \n",
       "3   3349 (56.0)   3273 (55.7)   3601 (57.5)   2378 (56.2)             \n",
       "4   9.77 (10.22)  9.88 (10.90) 10.23 (11.61) 10.00 (10.84)  0.141     \n",
       "5  74.16 (53.88) 75.51 (55.46) 74.56 (53.22) 73.92 (58.58)  0.167     \n",
       "6   1243 (20.8)    999 (17.0)   1016 (16.2)    162 ( 3.8)  <0.001     \n",
       "7   4600 (76.9)   4746 (80.8)   5118 (81.7)   3852 (91.0)             \n",
       "8    142 ( 2.4)    131 ( 2.2)    129 ( 2.1)    221 ( 5.2)             \n",
       "9   5350 (89.4)   5202 (88.5)   5576 (89.0)   3658 (86.4)  <0.001     \n",
       "10   635 (10.6)    674 (11.5)    687 (11.0)    577 (13.6)             \n",
       "11  4.04 (5.94)   3.96 (6.12)   4.15 (6.19)   4.42 (6.58)  <0.001     \n",
       "12  5514 (92.1)   5399 (91.9)   5768 (92.1)   3811 (90.0)  <0.001     \n",
       "13   471 ( 7.9)    477 ( 8.1)    495 ( 7.9)    424 (10.0)             \n",
       "14 30.58 (9.11)  31.10 (8.82)  31.17 (9.02)  31.49 (9.27)  <0.001     \n",
       "15  0.14 (0.14)   0.14 (0.14)   0.14 (0.14)   0.15 (0.15)  <0.001     \n",
       "16   851 (14.2)    850 (14.5)    838 (13.4)    695 (16.4)  <0.001     \n",
       "17  1268 (21.2)   1282 (21.8)   1416 (22.6)    237 ( 5.6)             \n",
       "18  2020 (33.8)   2020 (34.4)   2139 (34.2)   1765 (41.7)             \n",
       "19  1038 (17.3)    996 (17.0)   1044 (16.7)    743 (17.5)             \n",
       "20   808 (13.5)    728 (12.4)    826 (13.2)    795 (18.8)             "
      ]
     },
     "metadata": {},
     "output_type": "display_data"
    }
   ],
   "source": [
    "#If this fails, you may have to install pkg-config and libnlopt-dev on your system\n",
    "# e.g., in Ubuntu/Debian:\n",
    "# sudo apt-get install pkg-config  libnlopt-dev\n",
    "\n",
    "if(!(\"tableone\" %in% installed.packages())) { install.packages(\"tableone\")}\n",
    "\n",
    "library(tableone)\n",
    "\n",
    "vars <- c('gender', 'los_hospital', 'age', 'admission_type', 'hospital_expire_flag', \n",
    "           'los_icu','icustay_expire_flag', 'oasis', 'oasis_prob', 'first_careunit')\n",
    "\n",
    "group_var <- \"dow\"\n",
    "\n",
    "CreateTableOne(dat,vars=vars,strata=group_var,factorVars=c(\"hospital_expire_flag\",\"icustay_expire_flag\")) %>% \n",
    "      print(\n",
    "  printToggle      = FALSE,\n",
    "  showAllLevels    = TRUE,\n",
    "  cramVars         = \"kon\"\n",
    ") %>% \n",
    "{data.frame(\n",
    "  variable_name             = gsub(\" \", \" \", rownames(.), fixed = TRUE), ., \n",
    "  row.names        = NULL, \n",
    "  check.names      = FALSE, \n",
    "  stringsAsFactors = FALSE)} \n"
   ]
  },
  {
   "cell_type": "code",
   "execution_count": 6,
   "metadata": {
    "scrolled": true
   },
   "outputs": [
    {
     "data": {
      "text/html": [
       "<table>\n",
       "<thead><tr><th scope=col>variable_name</th><th scope=col>level</th><th scope=col>FALSE</th><th scope=col>TRUE</th><th scope=col>p</th><th scope=col>test</th></tr></thead>\n",
       "<tbody>\n",
       "\t<tr><td>n                       </td><td>                        </td><td>30362                   </td><td> 8195                   </td><td>                        </td><td>                        </td></tr>\n",
       "\t<tr><td>gender (%)              </td><td>F                       </td><td>13131 (43.2)            </td><td> 3593 (43.8)            </td><td> 0.341                  </td><td>                        </td></tr>\n",
       "\t<tr><td>                        </td><td>M                       </td><td>17231 (56.8)            </td><td> 4602 (56.2)            </td><td>                        </td><td>                        </td></tr>\n",
       "\t<tr><td>los_hospital (mean (sd))</td><td>                        </td><td> 9.89 (10.67)           </td><td> 9.91 (10.77)           </td><td> 0.879                  </td><td>                        </td></tr>\n",
       "\t<tr><td>age (mean (sd))         </td><td>                        </td><td>74.56 (53.84)           </td><td>74.57 (59.59)           </td><td> 0.997                  </td><td>                        </td></tr>\n",
       "\t<tr><td><span style=white-space:pre-wrap>admission_type (%)      </span></td><td>ELECTIVE                                                        </td><td> 5815 (19.2)                                                    </td><td><span style=white-space:pre-wrap>  263 ( 3.2) </span>           </td><td>&lt;0.001                                                       </td><td>                                                                </td></tr>\n",
       "\t<tr><td>                        </td><td>EMERGENCY               </td><td>23855 (78.6)            </td><td> 7533 (91.9)            </td><td>                        </td><td>                        </td></tr>\n",
       "\t<tr><td>                        </td><td>URGENT                  </td><td>  692 ( 2.3)            </td><td>  399 ( 4.9)            </td><td>                        </td><td>                        </td></tr>\n",
       "\t<tr><td>hospital_expire_flag (%)                         </td><td><span style=white-space:pre-wrap>0        </span></td><td>27087 (89.2)                                     </td><td> 7046 (86.0)                                     </td><td>&lt;0.001                                        </td><td>                                                 </td></tr>\n",
       "\t<tr><td>                        </td><td>1                       </td><td> 3275 (10.8)            </td><td> 1149 (14.0)            </td><td>                        </td><td>                        </td></tr>\n",
       "\t<tr><td><span style=white-space:pre-wrap>los_icu (mean (sd))     </span></td><td><span style=white-space:pre-wrap>         </span>               </td><td> 3.96 (5.89)                                                    </td><td> 4.43 (6.44)                                                    </td><td>&lt;0.001                                                       </td><td>                                                                </td></tr>\n",
       "\t<tr><td>icustay_expire_flag (%)                          </td><td><span style=white-space:pre-wrap>0        </span></td><td>28004 (92.2)                                     </td><td> 7359 (89.8)                                     </td><td>&lt;0.001                                        </td><td>                                                 </td></tr>\n",
       "\t<tr><td>                        </td><td>1                       </td><td> 2358 ( 7.8)            </td><td>  836 (10.2)            </td><td>                        </td><td>                        </td></tr>\n",
       "\t<tr><td><span style=white-space:pre-wrap>oasis (mean (sd))       </span></td><td><span style=white-space:pre-wrap>         </span>               </td><td>31.00 (8.90)                                                    </td><td>31.77 (9.15)                                                    </td><td>&lt;0.001                                                       </td><td>                                                                </td></tr>\n",
       "\t<tr><td><span style=white-space:pre-wrap>oasis_prob (mean (sd))  </span></td><td><span style=white-space:pre-wrap>         </span>               </td><td> 0.14 (0.14)                                                    </td><td> 0.15 (0.15)                                                    </td><td>&lt;0.001                                                       </td><td>                                                                </td></tr>\n",
       "\t<tr><td><span style=white-space:pre-wrap>first_careunit (%)      </span></td><td><span style=white-space:pre-wrap>CCU      </span>               </td><td> 4376 (14.4)                                                    </td><td> 1316 (16.1)                                                    </td><td>&lt;0.001                                                       </td><td>                                                                </td></tr>\n",
       "\t<tr><td>                        </td><td>CSRU                    </td><td> 7173 (23.6)            </td><td>  431 ( 5.3)            </td><td>                        </td><td>                        </td></tr>\n",
       "\t<tr><td>                        </td><td>MICU                    </td><td>10138 (33.4)            </td><td> 3471 (42.4)            </td><td>                        </td><td>                        </td></tr>\n",
       "\t<tr><td>                        </td><td>SICU                    </td><td> 4876 (16.1)            </td><td> 1486 (18.1)            </td><td>                        </td><td>                        </td></tr>\n",
       "\t<tr><td>                        </td><td>TSICU                   </td><td> 3799 (12.5)            </td><td> 1491 (18.2)            </td><td>                        </td><td>                        </td></tr>\n",
       "</tbody>\n",
       "</table>\n"
      ],
      "text/latex": [
       "\\begin{tabular}{r|llllll}\n",
       " variable\\_name & level & FALSE & TRUE & p & test\\\\\n",
       "\\hline\n",
       "\t n                        &                          & 30362                    &  8195                    &                          &                         \\\\\n",
       "\t gender (\\%)               & F                          & 13131 (43.2)               &  3593 (43.8)               &  0.341                     &                           \\\\\n",
       "\t                          & M                        & 17231 (56.8)             &  4602 (56.2)             &                          &                         \\\\\n",
       "\t los\\_hospital (mean (sd)) &                            &  9.89 (10.67)              &  9.91 (10.77)              &  0.879                     &                           \\\\\n",
       "\t age (mean (sd))          &                          & 74.56 (53.84)            & 74.57 (59.59)            &  0.997                   &                         \\\\\n",
       "\t admission\\_type (\\%)       & ELECTIVE                     &  5815 (19.2)                 &   263 ( 3.2)                 & <0.001                       &                             \\\\\n",
       "\t                          & EMERGENCY                & 23855 (78.6)             &  7533 (91.9)             &                          &                         \\\\\n",
       "\t                          & URGENT                   &   692 ( 2.3)             &   399 ( 4.9)             &                          &                         \\\\\n",
       "\t hospital\\_expire\\_flag (\\%) & 0                              & 27087 (89.2)                   &  7046 (86.0)                   & <0.001                         &                               \\\\\n",
       "\t                          & 1                        &  3275 (10.8)             &  1149 (14.0)             &                          &                         \\\\\n",
       "\t los\\_icu (mean (sd))      &                            &  3.96 (5.89)               &  4.43 (6.44)               & <0.001                     &                           \\\\\n",
       "\t icustay\\_expire\\_flag (\\%)  & 0                              & 28004 (92.2)                   &  7359 (89.8)                   & <0.001                         &                               \\\\\n",
       "\t                          & 1                        &  2358 ( 7.8)             &   836 (10.2)             &                          &                         \\\\\n",
       "\t oasis (mean (sd))        &                          & 31.00 (8.90)             & 31.77 (9.15)             & <0.001                   &                         \\\\\n",
       "\t oasis\\_prob (mean (sd))   &                            &  0.14 (0.14)               &  0.15 (0.15)               & <0.001                     &                           \\\\\n",
       "\t first\\_careunit (\\%)       & CCU                          &  4376 (14.4)                 &  1316 (16.1)                 & <0.001                       &                             \\\\\n",
       "\t                          & CSRU                     &  7173 (23.6)             &   431 ( 5.3)             &                          &                         \\\\\n",
       "\t                          & MICU                     & 10138 (33.4)             &  3471 (42.4)             &                          &                         \\\\\n",
       "\t                          & SICU                     &  4876 (16.1)             &  1486 (18.1)             &                          &                         \\\\\n",
       "\t                          & TSICU                    &  3799 (12.5)             &  1491 (18.2)             &                          &                         \\\\\n",
       "\\end{tabular}\n"
      ],
      "text/markdown": [
       "\n",
       "variable_name | level | FALSE | TRUE | p | test | \n",
       "|---|---|---|---|---|---|---|---|---|---|---|---|---|---|---|---|---|---|---|---|\n",
       "| n                        |                          | 30362                    |  8195                    |                          |                          | \n",
       "| gender (%)               | F                        | 13131 (43.2)             |  3593 (43.8)             |  0.341                   |                          | \n",
       "|                          | M                        | 17231 (56.8)             |  4602 (56.2)             |                          |                          | \n",
       "| los_hospital (mean (sd)) |                          |  9.89 (10.67)            |  9.91 (10.77)            |  0.879                   |                          | \n",
       "| age (mean (sd))          |                          | 74.56 (53.84)            | 74.57 (59.59)            |  0.997                   |                          | \n",
       "| admission_type (%)       | ELECTIVE                 |  5815 (19.2)             |   263 ( 3.2)             | <0.001                   |                          | \n",
       "|                          | EMERGENCY                | 23855 (78.6)             |  7533 (91.9)             |                          |                          | \n",
       "|                          | URGENT                   |   692 ( 2.3)             |   399 ( 4.9)             |                          |                          | \n",
       "| hospital_expire_flag (%) | 0                        | 27087 (89.2)             |  7046 (86.0)             | <0.001                   |                          | \n",
       "|                          | 1                        |  3275 (10.8)             |  1149 (14.0)             |                          |                          | \n",
       "| los_icu (mean (sd))      |                          |  3.96 (5.89)             |  4.43 (6.44)             | <0.001                   |                          | \n",
       "| icustay_expire_flag (%)  | 0                        | 28004 (92.2)             |  7359 (89.8)             | <0.001                   |                          | \n",
       "|                          | 1                        |  2358 ( 7.8)             |   836 (10.2)             |                          |                          | \n",
       "| oasis (mean (sd))        |                          | 31.00 (8.90)             | 31.77 (9.15)             | <0.001                   |                          | \n",
       "| oasis_prob (mean (sd))   |                          |  0.14 (0.14)             |  0.15 (0.15)             | <0.001                   |                          | \n",
       "| first_careunit (%)       | CCU                      |  4376 (14.4)             |  1316 (16.1)             | <0.001                   |                          | \n",
       "|                          | CSRU                     |  7173 (23.6)             |   431 ( 5.3)             |                          |                          | \n",
       "|                          | MICU                     | 10138 (33.4)             |  3471 (42.4)             |                          |                          | \n",
       "|                          | SICU                     |  4876 (16.1)             |  1486 (18.1)             |                          |                          | \n",
       "|                          | TSICU                    |  3799 (12.5)             |  1491 (18.2)             |                          |                          | \n",
       "\n",
       "\n"
      ],
      "text/plain": [
       "   variable_name            level     FALSE         TRUE          p      test\n",
       "1  n                                  30362          8195                    \n",
       "2  gender (%)               F         13131 (43.2)   3593 (43.8)   0.341     \n",
       "3                           M         17231 (56.8)   4602 (56.2)             \n",
       "4  los_hospital (mean (sd))            9.89 (10.67)  9.91 (10.77)  0.879     \n",
       "5  age (mean (sd))                    74.56 (53.84) 74.57 (59.59)  0.997     \n",
       "6  admission_type (%)       ELECTIVE   5815 (19.2)    263 ( 3.2)  <0.001     \n",
       "7                           EMERGENCY 23855 (78.6)   7533 (91.9)             \n",
       "8                           URGENT      692 ( 2.3)    399 ( 4.9)             \n",
       "9  hospital_expire_flag (%) 0         27087 (89.2)   7046 (86.0)  <0.001     \n",
       "10                          1          3275 (10.8)   1149 (14.0)             \n",
       "11 los_icu (mean (sd))                 3.96 (5.89)   4.43 (6.44)  <0.001     \n",
       "12 icustay_expire_flag (%)  0         28004 (92.2)   7359 (89.8)  <0.001     \n",
       "13                          1          2358 ( 7.8)    836 (10.2)             \n",
       "14 oasis (mean (sd))                  31.00 (8.90)  31.77 (9.15)  <0.001     \n",
       "15 oasis_prob (mean (sd))              0.14 (0.14)   0.15 (0.15)  <0.001     \n",
       "16 first_careunit (%)       CCU        4376 (14.4)   1316 (16.1)  <0.001     \n",
       "17                          CSRU       7173 (23.6)    431 ( 5.3)             \n",
       "18                          MICU      10138 (33.4)   3471 (42.4)             \n",
       "19                          SICU       4876 (16.1)   1486 (18.1)             \n",
       "20                          TSICU      3799 (12.5)   1491 (18.2)             "
      ]
     },
     "metadata": {},
     "output_type": "display_data"
    }
   ],
   "source": [
    "vars <- c('gender', 'los_hospital', 'age', 'admission_type', 'hospital_expire_flag', \n",
    "           'los_icu','icustay_expire_flag', 'oasis', 'oasis_prob', 'first_careunit')\n",
    "\n",
    "group_var <- \"weekend\"\n",
    "\n",
    "CreateTableOne(dat,vars=vars,strata=group_var,factorVars=c(\"hospital_expire_flag\",\"icustay_expire_flag\")) %>% \n",
    "      print(\n",
    "  printToggle      = FALSE,\n",
    "  showAllLevels    = TRUE,\n",
    "  cramVars         = \"kon\"\n",
    ") %>% \n",
    "{data.frame(\n",
    "  variable_name             = gsub(\" \", \" \", rownames(.), fixed = TRUE), ., \n",
    "  row.names        = NULL, \n",
    "  check.names      = FALSE, \n",
    "  stringsAsFactors = FALSE)} "
   ]
  },
  {
   "cell_type": "markdown",
   "metadata": {},
   "source": [
    "It looks like there's a higher rate of hospital mortality (14.0% vs 10.8%) and ICU mortality (10.2% vs 7.8%) on weekends when compared to weekdays.  There are also statistically significant differences between several other important variables, including: admission type, disease severity (OASIS), and the patient's first care unit, suggesting that these groups may be fundamentally different in some way.  Let's explore this a little further.\n"
   ]
  },
  {
   "cell_type": "code",
   "execution_count": 7,
   "metadata": {},
   "outputs": [
    {
     "data": {},
     "metadata": {},
     "output_type": "display_data"
    },
    {
     "data": {
      "image/png": "[encoded data removed]",
      "text/plain": [
       "plot without title"
      ]
     },
     "metadata": {},
     "output_type": "display_data"
    }
   ],
   "source": [
    "library(ggplot2)\n",
    "\n",
    "dat %>% group_by(admission_type,dow) %>% \n",
    "    summarise(n=n(),mortRate=mean(hospital_expire_flag==1),\n",
    "              LL95 = mortRate - qnorm(0.975)*sqrt(mortRate*(1-mortRate)/n),\n",
    "             UL95 = mortRate + qnorm(0.975)*sqrt(mortRate*(1-mortRate)/n)) %>%\n",
    "    ggplot(aes(dow,mortRate,group=admission_type,col=admission_type)) + \n",
    "    geom_line() + \n",
    "    geom_ribbon(aes(ymax=UL95,ymin=LL95,fill=admission_type,col=NULL),alpha=0.1) +\n",
    "    xlab(\"Day of Week\") + ylab(\"Hospital Mortality Rate\")"
   ]
  },
  {
   "cell_type": "code",
   "execution_count": 8,
   "metadata": {},
   "outputs": [
    {
     "data": {},
     "metadata": {},
     "output_type": "display_data"
    },
    {
     "data": {
      "image/png": "[encoded data removed]",
      "text/plain": [
       "plot without title"
      ]
     },
     "metadata": {},
     "output_type": "display_data"
    }
   ],
   "source": [
    "dat$weekend <- as.factor(dat$weekend)\n",
    "dat$admission_type <- as.factor(dat$admission_type)\n",
    "dat %>% group_by(admission_type,weekend) %>% \n",
    "    summarise(n=n(),mortRate=mean(hospital_expire_flag==1),\n",
    "              LL95 = mortRate - qnorm(0.975)*sqrt(mortRate*(1-mortRate)/n),\n",
    "             UL95 = mortRate + qnorm(0.975)*sqrt(mortRate*(1-mortRate)/n)) %>%\n",
    "    ggplot(aes(weekend,mortRate,group=admission_type,col=admission_type)) + \n",
    "    geom_line() + \n",
    "    geom_ribbon(aes(ymax=UL95,ymin=LL95,fill=admission_type,col=NULL),alpha=0.1) +\n",
    "    xlab(\"Weekend\") + ylab(\"Hospital Mortality Rate\")"
   ]
  },
  {
   "cell_type": "markdown",
   "metadata": {},
   "source": [
    "# Model building\n",
    "\n",
    "Let's try to incorporate what we saw above into a very simple model. We will use logistic regression with hospital mortality as our outcome. First an unadjusted estimate, and then we will try to adjust for admission type.\n",
    "\n",
    "The unadjusted analysis should mirror pretty closely what we saw in the one of the tables above.  The odds ratio corresponding with 14.0% and 10.8% mortality in the the weekend and weekday groups, respectively, is about 1.35.  Performing logistic regression on the same data:\n"
   ]
  },
  {
   "cell_type": "code",
   "execution_count": 9,
   "metadata": {},
   "outputs": [
    {
     "data": {
      "text/plain": [
       "\n",
       "Call:\n",
       "glm(formula = hospital_expire_flag ~ weekend, family = \"binomial\", \n",
       "    data = dat)\n",
       "\n",
       "Deviance Residuals: \n",
       "    Min       1Q   Median       3Q      Max  \n",
       "-0.5497  -0.4778  -0.4778  -0.4778   2.1104  \n",
       "\n",
       "Coefficients:\n",
       "            Estimate Std. Error  z value Pr(>|z|)    \n",
       "(Intercept)  -2.1127     0.0185 -114.204  < 2e-16 ***\n",
       "weekendTRUE   0.2992     0.0368    8.129 4.33e-16 ***\n",
       "---\n",
       "Signif. codes:  0 ‘***’ 0.001 ‘**’ 0.01 ‘*’ 0.05 ‘.’ 0.1 ‘ ’ 1\n",
       "\n",
       "(Dispersion parameter for binomial family taken to be 1)\n",
       "\n",
       "    Null deviance: 27477  on 38556  degrees of freedom\n",
       "Residual deviance: 27413  on 38555  degrees of freedom\n",
       "AIC: 27417\n",
       "\n",
       "Number of Fisher Scoring iterations: 4\n"
      ]
     },
     "metadata": {},
     "output_type": "display_data"
    },
    {
     "name": "stderr",
     "output_type": "stream",
     "text": [
      "Waiting for profiling to be done...\n",
      "Warning message:\n",
      "“Removed 1 rows containing missing values (geom_hline).”"
     ]
    },
    {
     "data": {
      "image/png": "[encoded data removed]",
      "text/plain": [
       "plot without title"
      ]
     },
     "metadata": {},
     "output_type": "display_data"
    }
   ],
   "source": [
    "simple.glm <- glm(hospital_expire_flag ~ weekend,data=dat,family=\"binomial\")\n",
    "summary(simple.glm)\n",
    "\n",
    "# Uncomment for pretty graph\n",
    "## if(!(\"sjPlot\" %in% installed.packages())) { install.packages(\"sjPlot\")}\n",
    "## library(sjPlot)\n",
    "## sjp.glm(simple.glm)\n"
   ]
  },
  {
   "cell_type": "markdown",
   "metadata": {},
   "source": [
    "yields the same results.  The above coefficient for weekend is on the log scale, so when we exponentiate it, we get the odds-ratio: `exp(0.2992) = 1.35`. So, looking at these crude rates and odds ratios, we can see that patients admitted on a weekend have about a 35% increase in the odds of dying in the hospital when compared to those on a weekday. This effect is statistically significant (p<0.001).\n",
    "\n",
    "Are we done?\n",
    "\n",
    "I hope not. We saw from the tables and figures above, there is likely some confounding and maybe even effect modification happening. Next let's look at admission type and weekend ICU admission in the same model.  There are two such models we could consider.  The first adjusts for admission type, but assumes that the effect of weekend admission is the same regardless if the patient is of any of the admission types.  The second one adjusts for admission type, but then allows the effect of weekend ICU admission to vary across the different levels of admission type.  The first type of model would be able to account for confounding (when a nuisance variable is associated with both the outcome and the exposure/variable of interest), while the second permits what is called effect modification or a statistical interaction.  Interactions are sometimes difficult to understand, but if ignored, can lead to incorrect conclusions about the effect of one or more of the variables.\n",
    "\n",
    "In this example, we fit both models, output estimates of the log-odds ratios, and perform a hypothesis test which evaluates the statistical significance of dropping one of the variables.  Below is the resulting output:"
   ]
  },
  {
   "cell_type": "code",
   "execution_count": 10,
   "metadata": {},
   "outputs": [
    {
     "data": {
      "text/plain": [
       "\n",
       "Call:\n",
       "glm(formula = hospital_expire_flag ~ weekend + admission_type, \n",
       "    family = \"binomial\", data = dat)\n",
       "\n",
       "Deviance Residuals: \n",
       "    Min       1Q   Median       3Q      Max  \n",
       "-0.5587  -0.5224  -0.5224  -0.2302   2.6995  \n",
       "\n",
       "Coefficients:\n",
       "                        Estimate Std. Error z value Pr(>|z|)    \n",
       "(Intercept)             -3.61725    0.08014 -45.137  < 2e-16 ***\n",
       "weekendTRUE              0.14442    0.03715   3.887 0.000101 ***\n",
       "admission_typeEMERGENCY  1.69439    0.08221  20.610  < 2e-16 ***\n",
       "admission_typeURGENT     1.58810    0.12308  12.903  < 2e-16 ***\n",
       "---\n",
       "Signif. codes:  0 ‘***’ 0.001 ‘**’ 0.01 ‘*’ 0.05 ‘.’ 0.1 ‘ ’ 1\n",
       "\n",
       "(Dispersion parameter for binomial family taken to be 1)\n",
       "\n",
       "    Null deviance: 27477  on 38556  degrees of freedom\n",
       "Residual deviance: 26721  on 38553  degrees of freedom\n",
       "AIC: 26729\n",
       "\n",
       "Number of Fisher Scoring iterations: 6\n"
      ]
     },
     "metadata": {},
     "output_type": "display_data"
    },
    {
     "data": {
      "text/html": [
       "<table>\n",
       "<thead><tr><th></th><th scope=col>Df</th><th scope=col>Deviance</th><th scope=col>AIC</th><th scope=col>LRT</th><th scope=col>Pr(&gt;Chi)</th></tr></thead>\n",
       "<tbody>\n",
       "\t<tr><th scope=row>&lt;none&gt;</th><td>NA           </td><td>26721.01     </td><td>26729.01     </td><td>       NA    </td><td>           NA</td></tr>\n",
       "\t<tr><th scope=row>weekend</th><td> 1           </td><td>26735.87     </td><td>26741.87     </td><td> 14.85949    </td><td> 1.158241e-04</td></tr>\n",
       "\t<tr><th scope=row>admission_type</th><td> 2           </td><td>27412.85     </td><td>27416.85     </td><td>691.83845    </td><td>5.877446e-151</td></tr>\n",
       "</tbody>\n",
       "</table>\n"
      ],
      "text/latex": [
       "\\begin{tabular}{r|lllll}\n",
       "  & Df & Deviance & AIC & LRT & Pr(>Chi)\\\\\n",
       "\\hline\n",
       "\t<none> & NA            & 26721.01      & 26729.01      &        NA     &            NA\\\\\n",
       "\tweekend &  1            & 26735.87      & 26741.87      &  14.85949     &  1.158241e-04\\\\\n",
       "\tadmission\\_type &  2            & 27412.85      & 27416.85      & 691.83845     & 5.877446e-151\\\\\n",
       "\\end{tabular}\n"
      ],
      "text/markdown": [
       "\n",
       "| <!--/--> | Df | Deviance | AIC | LRT | Pr(>Chi) | \n",
       "|---|---|---|\n",
       "| <none> | NA            | 26721.01      | 26729.01      |        NA     |            NA | \n",
       "| weekend |  1            | 26735.87      | 26741.87      |  14.85949     |  1.158241e-04 | \n",
       "| admission_type |  2            | 27412.85      | 27416.85      | 691.83845     | 5.877446e-151 | \n",
       "\n",
       "\n"
      ],
      "text/plain": [
       "               Df Deviance AIC      LRT       Pr(>Chi)     \n",
       "<none>         NA 26721.01 26729.01        NA            NA\n",
       "weekend         1 26735.87 26741.87  14.85949  1.158241e-04\n",
       "admission_type  2 27412.85 27416.85 691.83845 5.877446e-151"
      ]
     },
     "metadata": {},
     "output_type": "display_data"
    },
    {
     "data": {
      "text/plain": [
       "\n",
       "Call:\n",
       "glm(formula = hospital_expire_flag ~ weekend * admission_type, \n",
       "    family = \"binomial\", data = dat)\n",
       "\n",
       "Deviance Residuals: \n",
       "    Min       1Q   Median       3Q      Max  \n",
       "-0.5605  -0.5242  -0.5242  -0.2192   2.7353  \n",
       "\n",
       "Coefficients:\n",
       "                                    Estimate Std. Error z value Pr(>|z|)    \n",
       "(Intercept)                         -3.71692    0.08615 -43.143  < 2e-16 ***\n",
       "weekendTRUE                          1.32317    0.23880   5.541 3.01e-08 ***\n",
       "admission_typeEMERGENCY              1.80138    0.08830  20.401  < 2e-16 ***\n",
       "admission_typeURGENT                 1.60954    0.14959  10.760  < 2e-16 ***\n",
       "weekendTRUE:admission_typeEMERGENCY -1.20715    0.24185  -4.991 6.00e-07 ***\n",
       "weekendTRUE:admission_typeURGENT    -0.98723    0.30357  -3.252  0.00115 ** \n",
       "---\n",
       "Signif. codes:  0 ‘***’ 0.001 ‘**’ 0.01 ‘*’ 0.05 ‘.’ 0.1 ‘ ’ 1\n",
       "\n",
       "(Dispersion parameter for binomial family taken to be 1)\n",
       "\n",
       "    Null deviance: 27477  on 38556  degrees of freedom\n",
       "Residual deviance: 26700  on 38551  degrees of freedom\n",
       "AIC: 26712\n",
       "\n",
       "Number of Fisher Scoring iterations: 6\n"
      ]
     },
     "metadata": {},
     "output_type": "display_data"
    },
    {
     "data": {
      "text/html": [
       "<table>\n",
       "<thead><tr><th></th><th scope=col>Df</th><th scope=col>Deviance</th><th scope=col>AIC</th><th scope=col>LRT</th><th scope=col>Pr(&gt;Chi)</th></tr></thead>\n",
       "<tbody>\n",
       "\t<tr><th scope=row>&lt;none&gt;</th><td>NA          </td><td>26700.44    </td><td>26712.44    </td><td>      NA    </td><td>          NA</td></tr>\n",
       "\t<tr><th scope=row>weekend:admission_type</th><td> 2          </td><td>26721.01    </td><td>26729.01    </td><td>20.57385    </td><td>3.407566e-05</td></tr>\n",
       "</tbody>\n",
       "</table>\n"
      ],
      "text/latex": [
       "\\begin{tabular}{r|lllll}\n",
       "  & Df & Deviance & AIC & LRT & Pr(>Chi)\\\\\n",
       "\\hline\n",
       "\t<none> & NA           & 26700.44     & 26712.44     &       NA     &           NA\\\\\n",
       "\tweekend:admission\\_type &  2           & 26721.01     & 26729.01     & 20.57385     & 3.407566e-05\\\\\n",
       "\\end{tabular}\n"
      ],
      "text/markdown": [
       "\n",
       "| <!--/--> | Df | Deviance | AIC | LRT | Pr(>Chi) | \n",
       "|---|---|\n",
       "| <none> | NA           | 26700.44     | 26712.44     |       NA     |           NA | \n",
       "| weekend:admission_type |  2           | 26721.01     | 26729.01     | 20.57385     | 3.407566e-05 | \n",
       "\n",
       "\n"
      ],
      "text/plain": [
       "                       Df Deviance AIC      LRT      Pr(>Chi)    \n",
       "<none>                 NA 26700.44 26712.44       NA           NA\n",
       "weekend:admission_type  2 26721.01 26729.01 20.57385 3.407566e-05"
      ]
     },
     "metadata": {},
     "output_type": "display_data"
    }
   ],
   "source": [
    "# Without effect modification\n",
    "adj.glm <- glm(hospital_expire_flag ~ weekend + admission_type,data=dat,family=\"binomial\")\n",
    "summary(adj.glm)\n",
    "drop1(adj.glm,test=\"Chisq\")\n",
    "\n",
    "# With effect modification (interaction)\n",
    "adj.int.glm <- glm(hospital_expire_flag ~ weekend*admission_type,data=dat,family=\"binomial\")\n",
    "summary(adj.int.glm)\n",
    "drop1(adj.int.glm,test=\"Chisq\")"
   ]
  },
  {
   "cell_type": "code",
   "execution_count": null,
   "metadata": {
    "collapsed": true
   },
   "outputs": [],
   "source": [
    "In the first model (no interaction), we see that although the effect of weekend is almost halved, it remains statistically significant, after adjusting for admission type (p<0.001).\n",
    "\n",
    "In the second model, we are primarily interested in the significance of the interaction.  We can see when assessed with the `drop1` function, the interaction (`weekend:admission_type`) is statistically significant (p<0.001), suggesting that the effect of weekend may be different depending on which hospital admission type you are.  How exactly to interpret this:\n",
    "\n",
    "One way of looking at this complexity is by computing the odds ratio in each of the levels of admission type.  We can do this using the `predict` function, which by default outputs the log-odds of death.  If for each hospital admission type, we calculate the log odds of death for each of the levels of weekend,"
   ]
  },
  {
   "cell_type": "code",
   "execution_count": 11,
   "metadata": {},
   "outputs": [
    {
     "data": {
      "text/html": [
       "<table>\n",
       "<thead><tr><th scope=col>weekend</th><th scope=col>admission_type</th><th scope=col>pred</th></tr></thead>\n",
       "<tbody>\n",
       "\t<tr><td>TRUE     </td><td>ELECTIVE </td><td>-2.393754</td></tr>\n",
       "\t<tr><td>TRUE     </td><td>EMERGENCY</td><td>-1.799525</td></tr>\n",
       "\t<tr><td>TRUE     </td><td>URGENT   </td><td>-1.771439</td></tr>\n",
       "</tbody>\n",
       "</table>\n"
      ],
      "text/latex": [
       "\\begin{tabular}{r|lll}\n",
       " weekend & admission\\_type & pred\\\\\n",
       "\\hline\n",
       "\t TRUE      & ELECTIVE  & -2.393754\\\\\n",
       "\t TRUE      & EMERGENCY & -1.799525\\\\\n",
       "\t TRUE      & URGENT    & -1.771439\\\\\n",
       "\\end{tabular}\n"
      ],
      "text/markdown": [
       "\n",
       "weekend | admission_type | pred | \n",
       "|---|---|---|\n",
       "| TRUE      | ELECTIVE  | -2.393754 | \n",
       "| TRUE      | EMERGENCY | -1.799525 | \n",
       "| TRUE      | URGENT    | -1.771439 | \n",
       "\n",
       "\n"
      ],
      "text/plain": [
       "  weekend admission_type pred     \n",
       "1 TRUE    ELECTIVE       -2.393754\n",
       "2 TRUE    EMERGENCY      -1.799525\n",
       "3 TRUE    URGENT         -1.771439"
      ]
     },
     "metadata": {},
     "output_type": "display_data"
    },
    {
     "data": {
      "text/html": [
       "<table>\n",
       "<thead><tr><th scope=col>weekend</th><th scope=col>admission_type</th><th scope=col>pred</th></tr></thead>\n",
       "<tbody>\n",
       "\t<tr><td>FALSE    </td><td>ELECTIVE </td><td>-3.716925</td></tr>\n",
       "\t<tr><td>FALSE    </td><td>EMERGENCY</td><td>-1.915548</td></tr>\n",
       "\t<tr><td>FALSE    </td><td>URGENT   </td><td>-2.107381</td></tr>\n",
       "</tbody>\n",
       "</table>\n"
      ],
      "text/latex": [
       "\\begin{tabular}{r|lll}\n",
       " weekend & admission\\_type & pred\\\\\n",
       "\\hline\n",
       "\t FALSE     & ELECTIVE  & -3.716925\\\\\n",
       "\t FALSE     & EMERGENCY & -1.915548\\\\\n",
       "\t FALSE     & URGENT    & -2.107381\\\\\n",
       "\\end{tabular}\n"
      ],
      "text/markdown": [
       "\n",
       "weekend | admission_type | pred | \n",
       "|---|---|---|\n",
       "| FALSE     | ELECTIVE  | -3.716925 | \n",
       "| FALSE     | EMERGENCY | -1.915548 | \n",
       "| FALSE     | URGENT    | -2.107381 | \n",
       "\n",
       "\n"
      ],
      "text/plain": [
       "  weekend admission_type pred     \n",
       "1 FALSE   ELECTIVE       -3.716925\n",
       "2 FALSE   EMERGENCY      -1.915548\n",
       "3 FALSE   URGENT         -2.107381"
      ]
     },
     "metadata": {},
     "output_type": "display_data"
    }
   ],
   "source": [
    "onWeekend <- expand.grid(weekend=\"TRUE\",admission_type=levels(dat$admission_type))\n",
    "onWeekday <- expand.grid(weekend=\"FALSE\",admission_type=levels(dat$admission_type))\n",
    "\n",
    "onWeekend$pred <- predict(adj.int.glm,newdata=onWeekend)\n",
    "onWeekend \n",
    "\n",
    "\n",
    "onWeekday$pred <- predict(adj.int.glm,newdata=onWeekday)\n",
    "onWeekday \n"
   ]
  },
  {
   "cell_type": "markdown",
   "metadata": {},
   "source": [
    " We can now compute the log odds ratio ($log(OR) =  logOdds_{weekend} - logOdds_{weekday}$), and exponentiate to get the odds ratio:\n"
   ]
  },
  {
   "cell_type": "code",
   "execution_count": 12,
   "metadata": {},
   "outputs": [
    {
     "data": {
      "text/html": [
       "<table>\n",
       "<thead><tr><th scope=col>weekend.x</th><th scope=col>admission_type</th><th scope=col>pred.x</th><th scope=col>weekend.y</th><th scope=col>pred.y</th><th scope=col>OR</th></tr></thead>\n",
       "<tbody>\n",
       "\t<tr><td>TRUE     </td><td>ELECTIVE </td><td>-2.393754</td><td>FALSE    </td><td>-3.716925</td><td>3.755307 </td></tr>\n",
       "\t<tr><td>TRUE     </td><td>EMERGENCY</td><td>-1.799525</td><td>FALSE    </td><td>-1.915548</td><td>1.123022 </td></tr>\n",
       "\t<tr><td>TRUE     </td><td>URGENT   </td><td>-1.771439</td><td>FALSE    </td><td>-2.107381</td><td>1.399257 </td></tr>\n",
       "</tbody>\n",
       "</table>\n"
      ],
      "text/latex": [
       "\\begin{tabular}{r|llllll}\n",
       " weekend.x & admission\\_type & pred.x & weekend.y & pred.y & OR\\\\\n",
       "\\hline\n",
       "\t TRUE      & ELECTIVE  & -2.393754 & FALSE     & -3.716925 & 3.755307 \\\\\n",
       "\t TRUE      & EMERGENCY & -1.799525 & FALSE     & -1.915548 & 1.123022 \\\\\n",
       "\t TRUE      & URGENT    & -1.771439 & FALSE     & -2.107381 & 1.399257 \\\\\n",
       "\\end{tabular}\n"
      ],
      "text/markdown": [
       "\n",
       "weekend.x | admission_type | pred.x | weekend.y | pred.y | OR | \n",
       "|---|---|---|\n",
       "| TRUE      | ELECTIVE  | -2.393754 | FALSE     | -3.716925 | 3.755307  | \n",
       "| TRUE      | EMERGENCY | -1.799525 | FALSE     | -1.915548 | 1.123022  | \n",
       "| TRUE      | URGENT    | -1.771439 | FALSE     | -2.107381 | 1.399257  | \n",
       "\n",
       "\n"
      ],
      "text/plain": [
       "  weekend.x admission_type pred.x    weekend.y pred.y    OR      \n",
       "1 TRUE      ELECTIVE       -2.393754 FALSE     -3.716925 3.755307\n",
       "2 TRUE      EMERGENCY      -1.799525 FALSE     -1.915548 1.123022\n",
       "3 TRUE      URGENT         -1.771439 FALSE     -2.107381 1.399257"
      ]
     },
     "metadata": {},
     "output_type": "display_data"
    }
   ],
   "source": [
    "onWeekend %>% inner_join(onWeekday,by=\"admission_type\") %>% mutate(OR=exp((pred.x-pred.y)))\n"
   ]
  },
  {
   "cell_type": "markdown",
   "metadata": {},
   "source": [
    " So, this mirrors what we saw above. While there may be differences between `EMERGENCY` and `URGENT` admission types, an `ELECTIVE` admission occurring on a weekend has an odds of mortality almost four times that of an `ELECTIVE` admission on a weekday.  This seems particularly odd -- patients usually do not get admitted to a hospital electively on a weekend. \n",
    "\n",
    " What do you think? \n",
    "\n",
    " Do patients admitted on a weekend have a higher rate of mortality than those admitted during the week? \n",
    "\n",
    " Who is most affected, if at all?\n",
    "\n",
    " What factors can you rule out might be causing this effect?  e.g., is it because the patients are simply sicker on a weekend?  Are they more likely to have complications?\n",
    "\n",
    " Looking forward to see what you guys come up with!"
   ]
  }
 ],
 "metadata": {
  "kernelspec": {
   "display_name": "R",
   "language": "R",
   "name": "ir"
  },
  "language_info": {
   "codemirror_mode": "r",
   "file_extension": ".r",
   "mimetype": "text/x-r-source",
   "name": "R",
   "pygments_lexer": "r",
   "version": "3.4.3"
  }
 },
 "nbformat": 4,
 "nbformat_minor": 2
}
