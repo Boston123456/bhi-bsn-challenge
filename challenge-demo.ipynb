{
 "cells": [
  {
   "cell_type": "markdown",
   "metadata": {},
   "source": [
    "# Demo for the 2018 BHI & BSN Data Challenge"
   ]
  },
  {
   "cell_type": "code",
   "execution_count": 1,
   "metadata": {
    "collapsed": true
   },
   "outputs": [],
   "source": [
    "# Import libraries\n",
    "from tableone import TableOne\n",
    "import pandas as pd\n",
    "import matplotlib.pyplot as plt\n",
    "from datetime import datetime\n",
    "import psycopg2\n",
    "import getpass\n",
    "%matplotlib inline"
   ]
  },
  {
   "cell_type": "code",
   "execution_count": 53,
   "metadata": {
    "collapsed": true
   },
   "outputs": [],
   "source": [
    "# Create a database connection\n",
    "user = 'postgres'\n",
    "host = 'localhost'\n",
    "dbname = 'mimic'\n",
    "schema = 'public, mimiciii'"
   ]
  },
  {
   "cell_type": "code",
   "execution_count": 54,
   "metadata": {},
   "outputs": [
    {
     "name": "stdout",
     "output_type": "stream",
     "text": [
      "Password:········\n"
     ]
    }
   ],
   "source": [
    "# Connect to the database\n",
    "con = psycopg2.connect(dbname=dbname, user=user, host=host, \n",
    "                       password=getpass.getpass(prompt='Password:'.format(user)))\n",
    "cur = con.cursor()\n",
    "cur.execute('SET search_path to {}'.format(schema))"
   ]
  },
  {
   "cell_type": "code",
   "execution_count": 55,
   "metadata": {
    "collapsed": true
   },
   "outputs": [],
   "source": [
    "# Run query and assign the results to a Pandas DataFrame\n",
    "# Requires the icustay_detail view from:\n",
    "# https://github.com/MIT-LCP/mimic-code/tree/master/concepts/demographics\n",
    "# And the OASIS score from:\n",
    "# https://github.com/MIT-LCP/mimic-code/tree/master/concepts/severityscores\n",
    "query = \\\n",
    "\"\"\"\n",
    "WITH first_icu AS (\n",
    "    SELECT i.subject_id, i.hadm_id, i.icustay_id, i.gender, i.admittime admittime_hospital, \n",
    "    i.dischtime dischtime_hospital, i.los_hospital, i.age, i.admission_type, \n",
    "    i.hospital_expire_flag, i.intime intime_icu, i.outtime outtime_icu, i.los_icu\n",
    "    FROM icustay_detail i\n",
    "    WHERE i.hospstay_seq = 1\n",
    "    AND i.icustay_seq = 1\n",
    "    AND i.age >= 16\n",
    ")\n",
    "SELECT f.*, o.icustay_expire_flag, o.oasis, o.oasis_prob\n",
    "FROM first_icu f\n",
    "LEFT JOIN oasis o\n",
    "ON f.icustay_id = o.icustay_id;\n",
    "\"\"\"\n",
    "\n",
    "data = pd.read_sql_query(query,con)"
   ]
  },
  {
   "cell_type": "markdown",
   "metadata": {},
   "source": [
    "# Display the first few rows of the data"
   ]
  },
  {
   "cell_type": "code",
   "execution_count": 56,
   "metadata": {},
   "outputs": [
    {
     "data": {
      "text/plain": [
       "Index(['subject_id', 'hadm_id', 'icustay_id', 'gender', 'admittime_hospital',\n",
       "       'dischtime_hospital', 'los_hospital', 'age', 'admission_type',\n",
       "       'hospital_expire_flag', 'intime_icu', 'outtime_icu', 'los_icu',\n",
       "       'icustay_expire_flag', 'oasis', 'oasis_prob'],\n",
       "      dtype='object')"
      ]
     },
     "execution_count": 56,
     "metadata": {},
     "output_type": "execute_result"
    }
   ],
   "source": [
    "data.columns"
   ]
  },
  {
   "cell_type": "code",
   "execution_count": null,
   "metadata": {},
   "outputs": [],
   "source": [
    "data.head()"
   ]
  },
  {
   "cell_type": "markdown",
   "metadata": {},
   "source": [
    "# Add day of week to DataFrame"
   ]
  },
  {
   "cell_type": "code",
   "execution_count": null,
   "metadata": {},
   "outputs": [],
   "source": [
    "data['admitday_hospital'] = data.admittime_hospital.dt.weekday_name\n",
    "data['dischday_hospital'] = data.dischtime_hospital.dt.weekday_name\n",
    "data['inday_icu'] = data.intime_icu.dt.weekday_name\n",
    "data['outday_icu'] = data.outtime_icu.dt.weekday_name\n",
    "data.head()"
   ]
  },
  {
   "cell_type": "markdown",
   "metadata": {
    "collapsed": true
   },
   "source": [
    "# Table 1 summary statistics"
   ]
  },
  {
   "cell_type": "code",
   "execution_count": 59,
   "metadata": {},
   "outputs": [
    {
     "data": {
      "text/plain": [
       "Index(['subject_id', 'hadm_id', 'icustay_id', 'gender', 'admittime_hospital',\n",
       "       'dischtime_hospital', 'los_hospital', 'age', 'admission_type',\n",
       "       'hospital_expire_flag', 'intime_icu', 'outtime_icu', 'los_icu',\n",
       "       'icustay_expire_flag', 'oasis', 'oasis_prob', 'admitday_hospital',\n",
       "       'dischday_hospital', 'inday_icu', 'outday_icu'],\n",
       "      dtype='object')"
      ]
     },
     "execution_count": 59,
     "metadata": {},
     "output_type": "execute_result"
    }
   ],
   "source": [
    "data.columns"
   ]
  },
  {
   "cell_type": "code",
   "execution_count": 63,
   "metadata": {},
   "outputs": [
    {
     "data": {
      "text/html": [
       "<div>\n",
       "<style scoped>\n",
       "    .dataframe tbody tr th:only-of-type {\n",
       "        vertical-align: middle;\n",
       "    }\n",
       "\n",
       "    .dataframe tbody tr th {\n",
       "        vertical-align: top;\n",
       "    }\n",
       "\n",
       "    .dataframe thead th {\n",
       "        text-align: right;\n",
       "    }\n",
       "</style>\n",
       "<table border=\"1\" class=\"dataframe\">\n",
       "  <thead>\n",
       "    <tr style=\"text-align: right;\">\n",
       "      <th></th>\n",
       "      <th></th>\n",
       "      <th>inday_icu=Friday</th>\n",
       "      <th>inday_icu=Monday</th>\n",
       "      <th>inday_icu=Saturday</th>\n",
       "      <th>inday_icu=Sunday</th>\n",
       "      <th>inday_icu=Thursday</th>\n",
       "      <th>inday_icu=Tuesday</th>\n",
       "      <th>inday_icu=Wednesday</th>\n",
       "      <th>isnull</th>\n",
       "    </tr>\n",
       "    <tr>\n",
       "      <th>variable</th>\n",
       "      <th>level</th>\n",
       "      <th></th>\n",
       "      <th></th>\n",
       "      <th></th>\n",
       "      <th></th>\n",
       "      <th></th>\n",
       "      <th></th>\n",
       "      <th></th>\n",
       "      <th></th>\n",
       "    </tr>\n",
       "  </thead>\n",
       "  <tbody>\n",
       "    <tr>\n",
       "      <th>n</th>\n",
       "      <th></th>\n",
       "      <td>6263</td>\n",
       "      <td>6097</td>\n",
       "      <td>4235</td>\n",
       "      <td>3960</td>\n",
       "      <td>5876</td>\n",
       "      <td>6141</td>\n",
       "      <td>5985</td>\n",
       "      <td></td>\n",
       "    </tr>\n",
       "    <tr>\n",
       "      <th rowspan=\"3\" valign=\"top\">admission_type</th>\n",
       "      <th>ELECTIVE</th>\n",
       "      <td>1016 (16.22)</td>\n",
       "      <td>1265 (20.75)</td>\n",
       "      <td>162 (3.83)</td>\n",
       "      <td>101 (2.55)</td>\n",
       "      <td>999 (17.0)</td>\n",
       "      <td>1292 (21.04)</td>\n",
       "      <td>1243 (20.77)</td>\n",
       "      <td>0</td>\n",
       "    </tr>\n",
       "    <tr>\n",
       "      <th>EMERGENCY</th>\n",
       "      <td>5118 (81.72)</td>\n",
       "      <td>4687 (76.87)</td>\n",
       "      <td>3852 (90.96)</td>\n",
       "      <td>3681 (92.95)</td>\n",
       "      <td>4746 (80.77)</td>\n",
       "      <td>4704 (76.6)</td>\n",
       "      <td>4600 (76.86)</td>\n",
       "      <td></td>\n",
       "    </tr>\n",
       "    <tr>\n",
       "      <th>URGENT</th>\n",
       "      <td>129 (2.06)</td>\n",
       "      <td>145 (2.38)</td>\n",
       "      <td>221 (5.22)</td>\n",
       "      <td>178 (4.49)</td>\n",
       "      <td>131 (2.23)</td>\n",
       "      <td>145 (2.36)</td>\n",
       "      <td>142 (2.37)</td>\n",
       "      <td></td>\n",
       "    </tr>\n",
       "    <tr>\n",
       "      <th>age</th>\n",
       "      <th></th>\n",
       "      <td>74.56 (53.22)</td>\n",
       "      <td>73.13 (51.37)</td>\n",
       "      <td>73.92 (58.58)</td>\n",
       "      <td>75.26 (60.66)</td>\n",
       "      <td>75.51 (55.46)</td>\n",
       "      <td>75.48 (55.22)</td>\n",
       "      <td>74.16 (53.88)</td>\n",
       "      <td>0</td>\n",
       "    </tr>\n",
       "    <tr>\n",
       "      <th rowspan=\"2\" valign=\"top\">gender</th>\n",
       "      <th>F</th>\n",
       "      <td>2662 (42.5)</td>\n",
       "      <td>2559 (41.97)</td>\n",
       "      <td>1857 (43.85)</td>\n",
       "      <td>1736 (43.84)</td>\n",
       "      <td>2603 (44.3)</td>\n",
       "      <td>2671 (43.49)</td>\n",
       "      <td>2636 (44.04)</td>\n",
       "      <td>0</td>\n",
       "    </tr>\n",
       "    <tr>\n",
       "      <th>M</th>\n",
       "      <td>3601 (57.5)</td>\n",
       "      <td>3538 (58.03)</td>\n",
       "      <td>2378 (56.15)</td>\n",
       "      <td>2224 (56.16)</td>\n",
       "      <td>3273 (55.7)</td>\n",
       "      <td>3470 (56.51)</td>\n",
       "      <td>3349 (55.96)</td>\n",
       "      <td></td>\n",
       "    </tr>\n",
       "    <tr>\n",
       "      <th rowspan=\"2\" valign=\"top\">hospital_expire_flag</th>\n",
       "      <th>0</th>\n",
       "      <td>5576 (89.03)</td>\n",
       "      <td>5468 (89.68)</td>\n",
       "      <td>3658 (86.38)</td>\n",
       "      <td>3388 (85.56)</td>\n",
       "      <td>5202 (88.53)</td>\n",
       "      <td>5491 (89.42)</td>\n",
       "      <td>5350 (89.39)</td>\n",
       "      <td>0</td>\n",
       "    </tr>\n",
       "    <tr>\n",
       "      <th>1</th>\n",
       "      <td>687 (10.97)</td>\n",
       "      <td>629 (10.32)</td>\n",
       "      <td>577 (13.62)</td>\n",
       "      <td>572 (14.44)</td>\n",
       "      <td>674 (11.47)</td>\n",
       "      <td>650 (10.58)</td>\n",
       "      <td>635 (10.61)</td>\n",
       "      <td></td>\n",
       "    </tr>\n",
       "    <tr>\n",
       "      <th rowspan=\"2\" valign=\"top\">icustay_expire_flag</th>\n",
       "      <th>0</th>\n",
       "      <td>5768 (92.1)</td>\n",
       "      <td>5650 (92.67)</td>\n",
       "      <td>3811 (89.99)</td>\n",
       "      <td>3548 (89.6)</td>\n",
       "      <td>5399 (91.88)</td>\n",
       "      <td>5673 (92.38)</td>\n",
       "      <td>5514 (92.13)</td>\n",
       "      <td>0</td>\n",
       "    </tr>\n",
       "    <tr>\n",
       "      <th>1</th>\n",
       "      <td>495 (7.9)</td>\n",
       "      <td>447 (7.33)</td>\n",
       "      <td>424 (10.01)</td>\n",
       "      <td>412 (10.4)</td>\n",
       "      <td>477 (8.12)</td>\n",
       "      <td>468 (7.62)</td>\n",
       "      <td>471 (7.87)</td>\n",
       "      <td></td>\n",
       "    </tr>\n",
       "    <tr>\n",
       "      <th>los_hospital</th>\n",
       "      <th></th>\n",
       "      <td>10.23 (11.61)</td>\n",
       "      <td>9.71 (9.92)</td>\n",
       "      <td>10.00 (10.84)</td>\n",
       "      <td>9.82 (10.70)</td>\n",
       "      <td>9.88 (10.90)</td>\n",
       "      <td>9.86 (10.58)</td>\n",
       "      <td>9.77 (10.22)</td>\n",
       "      <td>0</td>\n",
       "    </tr>\n",
       "    <tr>\n",
       "      <th>los_icu</th>\n",
       "      <th></th>\n",
       "      <td>4.15 (6.19)</td>\n",
       "      <td>3.83 (5.52)</td>\n",
       "      <td>4.42 (6.58)</td>\n",
       "      <td>4.44 (6.29)</td>\n",
       "      <td>3.96 (6.12)</td>\n",
       "      <td>3.80 (5.65)</td>\n",
       "      <td>4.04 (5.94)</td>\n",
       "      <td>2</td>\n",
       "    </tr>\n",
       "    <tr>\n",
       "      <th>oasis</th>\n",
       "      <th></th>\n",
       "      <td>31.17 (9.02)</td>\n",
       "      <td>31.21 (8.77)</td>\n",
       "      <td>31.49 (9.27)</td>\n",
       "      <td>32.07 (9.02)</td>\n",
       "      <td>31.10 (8.82)</td>\n",
       "      <td>30.90 (8.77)</td>\n",
       "      <td>30.58 (9.11)</td>\n",
       "      <td>0</td>\n",
       "    </tr>\n",
       "    <tr>\n",
       "      <th>oasis_prob</th>\n",
       "      <th></th>\n",
       "      <td>0.14 (0.14)</td>\n",
       "      <td>0.14 (0.14)</td>\n",
       "      <td>0.15 (0.15)</td>\n",
       "      <td>0.16 (0.15)</td>\n",
       "      <td>0.14 (0.14)</td>\n",
       "      <td>0.14 (0.14)</td>\n",
       "      <td>0.14 (0.14)</td>\n",
       "      <td>0</td>\n",
       "    </tr>\n",
       "  </tbody>\n",
       "</table>\n",
       "</div>"
      ],
      "text/plain": [
       "                               inday_icu=Friday inday_icu=Monday  \\\n",
       "variable             level                                         \n",
       "n                                          6263             6097   \n",
       "admission_type       ELECTIVE      1016 (16.22)     1265 (20.75)   \n",
       "                     EMERGENCY     5118 (81.72)     4687 (76.87)   \n",
       "                     URGENT          129 (2.06)       145 (2.38)   \n",
       "age                               74.56 (53.22)    73.13 (51.37)   \n",
       "gender               F              2662 (42.5)     2559 (41.97)   \n",
       "                     M              3601 (57.5)     3538 (58.03)   \n",
       "hospital_expire_flag 0             5576 (89.03)     5468 (89.68)   \n",
       "                     1              687 (10.97)      629 (10.32)   \n",
       "icustay_expire_flag  0              5768 (92.1)     5650 (92.67)   \n",
       "                     1                495 (7.9)       447 (7.33)   \n",
       "los_hospital                      10.23 (11.61)      9.71 (9.92)   \n",
       "los_icu                             4.15 (6.19)      3.83 (5.52)   \n",
       "oasis                              31.17 (9.02)     31.21 (8.77)   \n",
       "oasis_prob                          0.14 (0.14)      0.14 (0.14)   \n",
       "\n",
       "                               inday_icu=Saturday inday_icu=Sunday  \\\n",
       "variable             level                                           \n",
       "n                                            4235             3960   \n",
       "admission_type       ELECTIVE          162 (3.83)       101 (2.55)   \n",
       "                     EMERGENCY       3852 (90.96)     3681 (92.95)   \n",
       "                     URGENT            221 (5.22)       178 (4.49)   \n",
       "age                                 73.92 (58.58)    75.26 (60.66)   \n",
       "gender               F               1857 (43.85)     1736 (43.84)   \n",
       "                     M               2378 (56.15)     2224 (56.16)   \n",
       "hospital_expire_flag 0               3658 (86.38)     3388 (85.56)   \n",
       "                     1                577 (13.62)      572 (14.44)   \n",
       "icustay_expire_flag  0               3811 (89.99)      3548 (89.6)   \n",
       "                     1                424 (10.01)       412 (10.4)   \n",
       "los_hospital                        10.00 (10.84)     9.82 (10.70)   \n",
       "los_icu                               4.42 (6.58)      4.44 (6.29)   \n",
       "oasis                                31.49 (9.27)     32.07 (9.02)   \n",
       "oasis_prob                            0.15 (0.15)      0.16 (0.15)   \n",
       "\n",
       "                               inday_icu=Thursday inday_icu=Tuesday  \\\n",
       "variable             level                                            \n",
       "n                                            5876              6141   \n",
       "admission_type       ELECTIVE          999 (17.0)      1292 (21.04)   \n",
       "                     EMERGENCY       4746 (80.77)       4704 (76.6)   \n",
       "                     URGENT            131 (2.23)        145 (2.36)   \n",
       "age                                 75.51 (55.46)     75.48 (55.22)   \n",
       "gender               F                2603 (44.3)      2671 (43.49)   \n",
       "                     M                3273 (55.7)      3470 (56.51)   \n",
       "hospital_expire_flag 0               5202 (88.53)      5491 (89.42)   \n",
       "                     1                674 (11.47)       650 (10.58)   \n",
       "icustay_expire_flag  0               5399 (91.88)      5673 (92.38)   \n",
       "                     1                 477 (8.12)        468 (7.62)   \n",
       "los_hospital                         9.88 (10.90)      9.86 (10.58)   \n",
       "los_icu                               3.96 (6.12)       3.80 (5.65)   \n",
       "oasis                                31.10 (8.82)      30.90 (8.77)   \n",
       "oasis_prob                            0.14 (0.14)       0.14 (0.14)   \n",
       "\n",
       "                               inday_icu=Wednesday isnull  \n",
       "variable             level                                 \n",
       "n                                             5985         \n",
       "admission_type       ELECTIVE         1243 (20.77)      0  \n",
       "                     EMERGENCY        4600 (76.86)         \n",
       "                     URGENT             142 (2.37)         \n",
       "age                                  74.16 (53.88)      0  \n",
       "gender               F                2636 (44.04)      0  \n",
       "                     M                3349 (55.96)         \n",
       "hospital_expire_flag 0                5350 (89.39)      0  \n",
       "                     1                 635 (10.61)         \n",
       "icustay_expire_flag  0                5514 (92.13)      0  \n",
       "                     1                  471 (7.87)         \n",
       "los_hospital                          9.77 (10.22)      0  \n",
       "los_icu                                4.04 (5.94)      2  \n",
       "oasis                                 30.58 (9.11)      0  \n",
       "oasis_prob                             0.14 (0.14)      0  "
      ]
     },
     "execution_count": 63,
     "metadata": {},
     "output_type": "execute_result"
    }
   ],
   "source": [
    "columns = ['gender', 'los_hospital', 'age', 'admission_type', 'hospital_expire_flag', \n",
    "           'los_icu','icustay_expire_flag', 'oasis', 'oasis_prob']\n",
    "\n",
    "groupby = 'inday_icu'\n",
    "categorical = ['gender','admission_type','hospital_expire_flag','icustay_expire_flag']\n",
    "\n",
    "t = TableOne(data, columns=columns, categorical=categorical, groupby=groupby)\n",
    "t.tableone"
   ]
  },
  {
   "cell_type": "code",
   "execution_count": 41,
   "metadata": {},
   "outputs": [
    {
     "data": {
      "text/plain": [
       "Index(['subject_id', 'hadm_id', 'icustay_id', 'gender', 'admittime_hospital',\n",
       "       'dischtime_hospital', 'los_hospital', 'age', 'admission_type',\n",
       "       'hospital_expire_flag', 'intime_icu', 'outtime_icu', 'los_icu',\n",
       "       'icustay_expire_flag', 'oasis', 'oasis_prob', 'admitday_hospital',\n",
       "       'dischday_hospital', 'inday_icu', 'outday_icu'],\n",
       "      dtype='object', name='variable')"
      ]
     },
     "execution_count": 41,
     "metadata": {},
     "output_type": "execute_result"
    }
   ],
   "source": [
    "data.columns"
   ]
  },
  {
   "cell_type": "code",
   "execution_count": null,
   "metadata": {
    "collapsed": true
   },
   "outputs": [],
   "source": []
  }
 ],
 "metadata": {
  "kernelspec": {
   "display_name": "Python 3",
   "language": "python",
   "name": "python3"
  },
  "language_info": {
   "codemirror_mode": {
    "name": "ipython",
    "version": 3
   },
   "file_extension": ".py",
   "mimetype": "text/x-python",
   "name": "python",
   "nbconvert_exporter": "python",
   "pygments_lexer": "ipython3",
   "version": "3.6.1"
  }
 },
 "nbformat": 4,
 "nbformat_minor": 2
}
