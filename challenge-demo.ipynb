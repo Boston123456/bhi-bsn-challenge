{
 "cells": [
  {
   "cell_type": "markdown",
   "metadata": {},
   "source": [
    "# Demo for the 2018 BHI & BSN Data Challenge"
   ]
  },
  {
   "cell_type": "code",
   "execution_count": 1,
   "metadata": {
    "collapsed": true
   },
   "outputs": [],
   "source": [
    "# Import libraries\n",
    "from tableone import TableOne\n",
    "import pandas as pd\n",
    "import matplotlib.pyplot as plt\n",
    "from datetime import datetime\n",
    "import psycopg2\n",
    "import getpass\n",
    "%matplotlib inline"
   ]
  },
  {
   "cell_type": "code",
   "execution_count": 2,
   "metadata": {
    "collapsed": true
   },
   "outputs": [],
   "source": [
    "# Create a database connection\n",
    "user = 'postgres'\n",
    "host = 'localhost'\n",
    "dbname = 'mimic'\n",
    "schema = 'public, mimiciii_demo'"
   ]
  },
  {
   "cell_type": "code",
   "execution_count": 3,
   "metadata": {},
   "outputs": [
    {
     "name": "stdout",
     "output_type": "stream",
     "text": [
      "Password:········\n"
     ]
    }
   ],
   "source": [
    "# Connect to the database\n",
    "con = psycopg2.connect(dbname=dbname, user=user, host=host, \n",
    "                       password=getpass.getpass(prompt='Password:'.format(user)))\n",
    "cur = con.cursor()\n",
    "cur.execute('SET search_path to {}'.format(schema))"
   ]
  },
  {
   "cell_type": "code",
   "execution_count": 8,
   "metadata": {
    "collapsed": true
   },
   "outputs": [],
   "source": [
    "# Run query and assign the results to a Pandas DataFrame\n",
    "# Requires the icustay_detail view from:\n",
    "# https://github.com/MIT-LCP/mimic-code/tree/master/concepts/demographics\n",
    "# And the OASIS score from:\n",
    "# https://github.com/MIT-LCP/mimic-code/tree/master/concepts/severityscores\n",
    "query = \\\n",
    "\"\"\"\n",
    "WITH first_icu AS (\n",
    "    SELECT i.subject_id, i.hadm_id, i.icustay_id, i.gender, i.admittime admittime_hospital, \n",
    "    i.dischtime dischtime_hospital, i.los_hospital, i.age, i.admission_type, \n",
    "    i.hospital_expire_flag, i.intime intime_icu, i.outtime outtime_icu, i.los_icu\n",
    "    FROM icustay_detail i\n",
    "    WHERE i.hospstay_seq = 1\n",
    "    AND i.icustay_seq = 1\n",
    "    AND i.age >= 16\n",
    ")\n",
    "SELECT f.*, o.icustay_expire_flag, o.oasis, o.oasis_prob\n",
    "FROM first_icu f\n",
    "LEFT JOIN oasis o\n",
    "ON f.icustay_id = o.icustay_id;\n",
    "\"\"\"\n",
    "\n",
    "data = pd.read_sql_query(query,con)"
   ]
  },
  {
   "cell_type": "markdown",
   "metadata": {},
   "source": [
    "# Display the first few rows of the data"
   ]
  },
  {
   "cell_type": "code",
   "execution_count": 47,
   "metadata": {},
   "outputs": [
    {
     "data": {
      "text/plain": [
       "Index(['subject_id', 'hadm_id', 'icustay_id', 'gender', 'admittime_hospital',\n",
       "       'dischtime_hospital', 'los_hospital', 'age', 'admission_type',\n",
       "       'hospital_expire_flag', 'intime_icu', 'outtime_icu', 'los_icu',\n",
       "       'icustay_expire_flag', 'oasis', 'oasis_prob', 'admitday_hospital',\n",
       "       'dischday_hospital', 'inday_icu', 'outday_icu'],\n",
       "      dtype='object', name='variable')"
      ]
     },
     "execution_count": 47,
     "metadata": {},
     "output_type": "execute_result"
    }
   ],
   "source": [
    "data.columns"
   ]
  },
  {
   "cell_type": "code",
   "execution_count": null,
   "metadata": {},
   "outputs": [],
   "source": [
    "data.head()"
   ]
  },
  {
   "cell_type": "markdown",
   "metadata": {},
   "source": [
    "# Add day of week to DataFrame"
   ]
  },
  {
   "cell_type": "code",
   "execution_count": null,
   "metadata": {},
   "outputs": [],
   "source": [
    "data['admitday_hospital'] = data.admittime_hospital.dt.weekday_name\n",
    "data['dischday_hospital'] = data.dischtime_hospital.dt.weekday_name\n",
    "data['inday_icu'] = data.intime_icu.dt.weekday_name\n",
    "data['outday_icu'] = data.outtime_icu.dt.weekday_name\n",
    "data.head()"
   ]
  },
  {
   "cell_type": "markdown",
   "metadata": {
    "collapsed": true
   },
   "source": [
    "# Table 1 summary statistics"
   ]
  },
  {
   "cell_type": "code",
   "execution_count": 50,
   "metadata": {},
   "outputs": [
    {
     "data": {
      "text/plain": [
       "Index(['subject_id', 'hadm_id', 'icustay_id', 'gender', 'admittime_hospital',\n",
       "       'dischtime_hospital', 'los_hospital', 'age', 'admission_type',\n",
       "       'hospital_expire_flag', 'intime_icu', 'outtime_icu', 'los_icu',\n",
       "       'icustay_expire_flag', 'oasis', 'oasis_prob', 'admitday_hospital',\n",
       "       'dischday_hospital', 'inday_icu', 'outday_icu'],\n",
       "      dtype='object', name='variable')"
      ]
     },
     "execution_count": 50,
     "metadata": {},
     "output_type": "execute_result"
    }
   ],
   "source": [
    "data.columns"
   ]
  },
  {
   "cell_type": "code",
   "execution_count": 52,
   "metadata": {},
   "outputs": [
    {
     "data": {
      "text/html": [
       "<div>\n",
       "<style scoped>\n",
       "    .dataframe tbody tr th:only-of-type {\n",
       "        vertical-align: middle;\n",
       "    }\n",
       "\n",
       "    .dataframe tbody tr th {\n",
       "        vertical-align: top;\n",
       "    }\n",
       "\n",
       "    .dataframe thead th {\n",
       "        text-align: right;\n",
       "    }\n",
       "</style>\n",
       "<table border=\"1\" class=\"dataframe\">\n",
       "  <thead>\n",
       "    <tr style=\"text-align: right;\">\n",
       "      <th></th>\n",
       "      <th></th>\n",
       "      <th>inday_icu=Friday</th>\n",
       "      <th>inday_icu=Monday</th>\n",
       "      <th>inday_icu=Saturday</th>\n",
       "      <th>inday_icu=Sunday</th>\n",
       "      <th>inday_icu=Thursday</th>\n",
       "      <th>inday_icu=Tuesday</th>\n",
       "      <th>inday_icu=Wednesday</th>\n",
       "      <th>isnull</th>\n",
       "    </tr>\n",
       "    <tr>\n",
       "      <th>variable</th>\n",
       "      <th>level</th>\n",
       "      <th></th>\n",
       "      <th></th>\n",
       "      <th></th>\n",
       "      <th></th>\n",
       "      <th></th>\n",
       "      <th></th>\n",
       "      <th></th>\n",
       "      <th></th>\n",
       "    </tr>\n",
       "  </thead>\n",
       "  <tbody>\n",
       "    <tr>\n",
       "      <th>n</th>\n",
       "      <th></th>\n",
       "      <td>9</td>\n",
       "      <td>14</td>\n",
       "      <td>12</td>\n",
       "      <td>7</td>\n",
       "      <td>21</td>\n",
       "      <td>18</td>\n",
       "      <td>18</td>\n",
       "      <td></td>\n",
       "    </tr>\n",
       "    <tr>\n",
       "      <th rowspan=\"3\" valign=\"top\">admission_type</th>\n",
       "      <th>ELECTIVE</th>\n",
       "      <td>2 (22.22)</td>\n",
       "      <td>1 (7.14)</td>\n",
       "      <td></td>\n",
       "      <td></td>\n",
       "      <td>1 (4.76)</td>\n",
       "      <td>3 (16.67)</td>\n",
       "      <td>1 (5.56)</td>\n",
       "      <td>0</td>\n",
       "    </tr>\n",
       "    <tr>\n",
       "      <th>EMERGENCY</th>\n",
       "      <td>7 (77.78)</td>\n",
       "      <td>13 (92.86)</td>\n",
       "      <td>11 (91.67)</td>\n",
       "      <td>7 (100.0)</td>\n",
       "      <td>20 (95.24)</td>\n",
       "      <td>15 (83.33)</td>\n",
       "      <td>16 (88.89)</td>\n",
       "      <td></td>\n",
       "    </tr>\n",
       "    <tr>\n",
       "      <th>URGENT</th>\n",
       "      <td></td>\n",
       "      <td></td>\n",
       "      <td>1 (8.33)</td>\n",
       "      <td></td>\n",
       "      <td></td>\n",
       "      <td></td>\n",
       "      <td>1 (5.56)</td>\n",
       "      <td></td>\n",
       "    </tr>\n",
       "    <tr>\n",
       "      <th>age</th>\n",
       "      <th></th>\n",
       "      <td>68.01 (19.56)</td>\n",
       "      <td>70.53 (11.72)</td>\n",
       "      <td>89.13 (67.55)</td>\n",
       "      <td>165.97 (127.22)</td>\n",
       "      <td>107.35 (82.22)</td>\n",
       "      <td>87.98 (54.74)</td>\n",
       "      <td>63.87 (17.61)</td>\n",
       "      <td>0</td>\n",
       "    </tr>\n",
       "    <tr>\n",
       "      <th rowspan=\"2\" valign=\"top\">gender</th>\n",
       "      <th>F</th>\n",
       "      <td>5 (55.56)</td>\n",
       "      <td>6 (42.86)</td>\n",
       "      <td>7 (58.33)</td>\n",
       "      <td>7 (100.0)</td>\n",
       "      <td>13 (61.9)</td>\n",
       "      <td>12 (66.67)</td>\n",
       "      <td>5 (27.78)</td>\n",
       "      <td>0</td>\n",
       "    </tr>\n",
       "    <tr>\n",
       "      <th>M</th>\n",
       "      <td>4 (44.44)</td>\n",
       "      <td>8 (57.14)</td>\n",
       "      <td>5 (41.67)</td>\n",
       "      <td></td>\n",
       "      <td>8 (38.1)</td>\n",
       "      <td>6 (33.33)</td>\n",
       "      <td>13 (72.22)</td>\n",
       "      <td></td>\n",
       "    </tr>\n",
       "    <tr>\n",
       "      <th rowspan=\"2\" valign=\"top\">hospital_expire_flag</th>\n",
       "      <th>0</th>\n",
       "      <td>5 (55.56)</td>\n",
       "      <td>9 (64.29)</td>\n",
       "      <td>9 (75.0)</td>\n",
       "      <td>5 (71.43)</td>\n",
       "      <td>12 (57.14)</td>\n",
       "      <td>14 (77.78)</td>\n",
       "      <td>13 (72.22)</td>\n",
       "      <td>0</td>\n",
       "    </tr>\n",
       "    <tr>\n",
       "      <th>1</th>\n",
       "      <td>4 (44.44)</td>\n",
       "      <td>5 (35.71)</td>\n",
       "      <td>3 (25.0)</td>\n",
       "      <td>2 (28.57)</td>\n",
       "      <td>9 (42.86)</td>\n",
       "      <td>4 (22.22)</td>\n",
       "      <td>5 (27.78)</td>\n",
       "      <td></td>\n",
       "    </tr>\n",
       "    <tr>\n",
       "      <th rowspan=\"2\" valign=\"top\">icustay_expire_flag</th>\n",
       "      <th>0</th>\n",
       "      <td>6 (66.67)</td>\n",
       "      <td>11 (78.57)</td>\n",
       "      <td>10 (83.33)</td>\n",
       "      <td>6 (85.71)</td>\n",
       "      <td>14 (66.67)</td>\n",
       "      <td>16 (88.89)</td>\n",
       "      <td>14 (77.78)</td>\n",
       "      <td>0</td>\n",
       "    </tr>\n",
       "    <tr>\n",
       "      <th>1</th>\n",
       "      <td>3 (33.33)</td>\n",
       "      <td>3 (21.43)</td>\n",
       "      <td>2 (16.67)</td>\n",
       "      <td>1 (14.29)</td>\n",
       "      <td>7 (33.33)</td>\n",
       "      <td>2 (11.11)</td>\n",
       "      <td>4 (22.22)</td>\n",
       "      <td></td>\n",
       "    </tr>\n",
       "    <tr>\n",
       "      <th>los_hospital</th>\n",
       "      <th></th>\n",
       "      <td>12.33 (14.92)</td>\n",
       "      <td>15.07 (32.02)</td>\n",
       "      <td>6.08 (2.94)</td>\n",
       "      <td>7.00 (8.14)</td>\n",
       "      <td>6.71 (5.06)</td>\n",
       "      <td>12.28 (7.67)</td>\n",
       "      <td>10.28 (8.71)</td>\n",
       "      <td>0</td>\n",
       "    </tr>\n",
       "    <tr>\n",
       "      <th>los_icu</th>\n",
       "      <th></th>\n",
       "      <td>6.67 (11.59)</td>\n",
       "      <td>3.07 (4.98)</td>\n",
       "      <td>2.50 (1.57)</td>\n",
       "      <td>5.00 (8.83)</td>\n",
       "      <td>4.10 (4.79)</td>\n",
       "      <td>5.11 (6.77)</td>\n",
       "      <td>5.89 (7.90)</td>\n",
       "      <td>0</td>\n",
       "    </tr>\n",
       "    <tr>\n",
       "      <th>oasis</th>\n",
       "      <th></th>\n",
       "      <td>26.11 (10.67)</td>\n",
       "      <td>31.57 (7.10)</td>\n",
       "      <td>34.08 (9.92)</td>\n",
       "      <td>36.14 (1.77)</td>\n",
       "      <td>37.81 (7.59)</td>\n",
       "      <td>34.22 (6.07)</td>\n",
       "      <td>38.39 (9.77)</td>\n",
       "      <td>0</td>\n",
       "    </tr>\n",
       "    <tr>\n",
       "      <th>oasis_prob</th>\n",
       "      <th></th>\n",
       "      <td>0.10 (0.13)</td>\n",
       "      <td>0.13 (0.13)</td>\n",
       "      <td>0.19 (0.17)</td>\n",
       "      <td>0.17 (0.03)</td>\n",
       "      <td>0.24 (0.17)</td>\n",
       "      <td>0.16 (0.12)</td>\n",
       "      <td>0.27 (0.22)</td>\n",
       "      <td>0</td>\n",
       "    </tr>\n",
       "  </tbody>\n",
       "</table>\n",
       "</div>"
      ],
      "text/plain": [
       "                               inday_icu=Friday inday_icu=Monday  \\\n",
       "variable             level                                         \n",
       "n                                             9               14   \n",
       "admission_type       ELECTIVE         2 (22.22)         1 (7.14)   \n",
       "                     EMERGENCY        7 (77.78)       13 (92.86)   \n",
       "                     URGENT                                        \n",
       "age                               68.01 (19.56)    70.53 (11.72)   \n",
       "gender               F                5 (55.56)        6 (42.86)   \n",
       "                     M                4 (44.44)        8 (57.14)   \n",
       "hospital_expire_flag 0                5 (55.56)        9 (64.29)   \n",
       "                     1                4 (44.44)        5 (35.71)   \n",
       "icustay_expire_flag  0                6 (66.67)       11 (78.57)   \n",
       "                     1                3 (33.33)        3 (21.43)   \n",
       "los_hospital                      12.33 (14.92)    15.07 (32.02)   \n",
       "los_icu                            6.67 (11.59)      3.07 (4.98)   \n",
       "oasis                             26.11 (10.67)     31.57 (7.10)   \n",
       "oasis_prob                          0.10 (0.13)      0.13 (0.13)   \n",
       "\n",
       "                               inday_icu=Saturday inday_icu=Sunday  \\\n",
       "variable             level                                           \n",
       "n                                              12                7   \n",
       "admission_type       ELECTIVE                                        \n",
       "                     EMERGENCY         11 (91.67)        7 (100.0)   \n",
       "                     URGENT              1 (8.33)                    \n",
       "age                                 89.13 (67.55)  165.97 (127.22)   \n",
       "gender               F                  7 (58.33)        7 (100.0)   \n",
       "                     M                  5 (41.67)                    \n",
       "hospital_expire_flag 0                   9 (75.0)        5 (71.43)   \n",
       "                     1                   3 (25.0)        2 (28.57)   \n",
       "icustay_expire_flag  0                 10 (83.33)        6 (85.71)   \n",
       "                     1                  2 (16.67)        1 (14.29)   \n",
       "los_hospital                          6.08 (2.94)      7.00 (8.14)   \n",
       "los_icu                               2.50 (1.57)      5.00 (8.83)   \n",
       "oasis                                34.08 (9.92)     36.14 (1.77)   \n",
       "oasis_prob                            0.19 (0.17)      0.17 (0.03)   \n",
       "\n",
       "                               inday_icu=Thursday inday_icu=Tuesday  \\\n",
       "variable             level                                            \n",
       "n                                              21                18   \n",
       "admission_type       ELECTIVE            1 (4.76)         3 (16.67)   \n",
       "                     EMERGENCY         20 (95.24)        15 (83.33)   \n",
       "                     URGENT                                           \n",
       "age                                107.35 (82.22)     87.98 (54.74)   \n",
       "gender               F                  13 (61.9)        12 (66.67)   \n",
       "                     M                   8 (38.1)         6 (33.33)   \n",
       "hospital_expire_flag 0                 12 (57.14)        14 (77.78)   \n",
       "                     1                  9 (42.86)         4 (22.22)   \n",
       "icustay_expire_flag  0                 14 (66.67)        16 (88.89)   \n",
       "                     1                  7 (33.33)         2 (11.11)   \n",
       "los_hospital                          6.71 (5.06)      12.28 (7.67)   \n",
       "los_icu                               4.10 (4.79)       5.11 (6.77)   \n",
       "oasis                                37.81 (7.59)      34.22 (6.07)   \n",
       "oasis_prob                            0.24 (0.17)       0.16 (0.12)   \n",
       "\n",
       "                               inday_icu=Wednesday isnull  \n",
       "variable             level                                 \n",
       "n                                               18         \n",
       "admission_type       ELECTIVE             1 (5.56)      0  \n",
       "                     EMERGENCY          16 (88.89)         \n",
       "                     URGENT               1 (5.56)         \n",
       "age                                  63.87 (17.61)      0  \n",
       "gender               F                   5 (27.78)      0  \n",
       "                     M                  13 (72.22)         \n",
       "hospital_expire_flag 0                  13 (72.22)      0  \n",
       "                     1                   5 (27.78)         \n",
       "icustay_expire_flag  0                  14 (77.78)      0  \n",
       "                     1                   4 (22.22)         \n",
       "los_hospital                          10.28 (8.71)      0  \n",
       "los_icu                                5.89 (7.90)      0  \n",
       "oasis                                 38.39 (9.77)      0  \n",
       "oasis_prob                             0.27 (0.22)      0  "
      ]
     },
     "execution_count": 52,
     "metadata": {},
     "output_type": "execute_result"
    }
   ],
   "source": [
    "columns = ['gender', 'los_hospital', 'age', 'admission_type', 'hospital_expire_flag', \n",
    "           'los_icu','icustay_expire_flag', 'oasis', 'oasis_prob']\n",
    "\n",
    "groupby = 'inday_icu'\n",
    "\n",
    "t = TableOne(data, columns=columns, groupby=groupby)\n",
    "t.tableone"
   ]
  },
  {
   "cell_type": "code",
   "execution_count": 41,
   "metadata": {},
   "outputs": [
    {
     "data": {
      "text/plain": [
       "Index(['subject_id', 'hadm_id', 'icustay_id', 'gender', 'admittime_hospital',\n",
       "       'dischtime_hospital', 'los_hospital', 'age', 'admission_type',\n",
       "       'hospital_expire_flag', 'intime_icu', 'outtime_icu', 'los_icu',\n",
       "       'icustay_expire_flag', 'oasis', 'oasis_prob', 'admitday_hospital',\n",
       "       'dischday_hospital', 'inday_icu', 'outday_icu'],\n",
       "      dtype='object', name='variable')"
      ]
     },
     "execution_count": 41,
     "metadata": {},
     "output_type": "execute_result"
    }
   ],
   "source": [
    "data.columns"
   ]
  },
  {
   "cell_type": "code",
   "execution_count": null,
   "metadata": {
    "collapsed": true
   },
   "outputs": [],
   "source": []
  }
 ],
 "metadata": {
  "kernelspec": {
   "display_name": "Python 3",
   "language": "python",
   "name": "python3"
  },
  "language_info": {
   "codemirror_mode": {
    "name": "ipython",
    "version": 3
   },
   "file_extension": ".py",
   "mimetype": "text/x-python",
   "name": "python",
   "nbconvert_exporter": "python",
   "pygments_lexer": "ipython3",
   "version": "3.6.1"
  }
 },
 "nbformat": 4,
 "nbformat_minor": 2
}
